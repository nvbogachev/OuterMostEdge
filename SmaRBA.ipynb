{
 "cells": [
  {
   "cell_type": "code",
   "execution_count": 1,
   "metadata": {
    "collapsed": false
   },
   "outputs": [
    {
     "name": "stdout",
     "output_type": "stream",
     "text": [
      "1.22758543949\n"
     ]
    }
   ],
   "source": [
    "def mathem(ineq):\n",
    "    r = \"{}\".format(ineq)\n",
    "    z = \"\"\n",
    "    for s in r:\n",
    "        s = s.replace('T','').replace('\\r','').replace('<','').replace('=','')\n",
    "        z+=s\n",
    "    return(float(sage_eval(z)))\n",
    "print mathem('T <= 1/2*sqrt(10) - 1/4*sqrt(2)')"
   ]
  },
  {
   "cell_type": "code",
   "execution_count": 2,
   "metadata": {
    "collapsed": false
   },
   "outputs": [
    {
     "name": "stdout",
     "output_type": "stream",
     "text": [
      "{(1/5*pi, 1/2*pi, 1/3*pi, 1/3*pi, 1/2*pi): 4.89809226949358, (1/3*pi, 1/2*pi, 1/4*pi, 1/5*pi, 1/2*pi): 3.163846017132017, (1/4*pi, 1/3*pi, 1/2*pi, 1/3*pi, 1/2*pi): 4.974873703802181, (1/3*pi, 1/5*pi, 1/2*pi, 1/2*pi, 1/5*pi): 2.773561314103791, (1/3*pi, 1/4*pi, 1/2*pi, 1/3*pi, 1/2*pi): 4.344367098860234, (1/3*pi, 1/2*pi, 1/4*pi, 1/4*pi, 1/2*pi): 3.0719314355677994, (1/3*pi, 1/2*pi, 1/2*pi, 1/2*pi, 1/3*pi): 3.288294414278926, (1/4*pi, 1/2*pi, 1/3*pi, 1/3*pi, 1/2*pi): 4.1372843057418045, (1/3*pi, 1/2*pi, 1/3*pi, 1/2*pi, 1/5*pi): 4.474353946688198, (1/3*pi, 1/5*pi, 1/2*pi, 1/2*pi, 1/2*pi): 3.7162209690572383, (1/3*pi, 1/2*pi, 1/4*pi, 1/2*pi, 1/4*pi): 4.616156374329701, (1/3*pi, 1/3*pi, 1/2*pi, 1/5*pi, 1/2*pi): 4.474353946688198, (1/3*pi, 1/2*pi, 1/5*pi, 1/2*pi, 1/4*pi): 4.742217541591458, (1/4*pi, 1/2*pi, 1/2*pi, 1/2*pi, 1/3*pi): 3.810269273416166, (1/3*pi, 1/2*pi, 1/3*pi, 1/2*pi, 1/4*pi): 4.344367098860234, (1/3*pi, 1/2*pi, 1/4*pi, 1/2*pi, 1/5*pi): 4.742217541591458, (1/4*pi, 1/2*pi, 1/3*pi, 1/2*pi, 1/2*pi): 3.810269273416166, (1/5*pi, 1/3*pi, 1/2*pi, 1/3*pi, 1/2*pi): 5.748501123145138, (1/3*pi, 1/2*pi, 1/3*pi, 1/4*pi, 1/2*pi): 3.5007905241658945, (1/5*pi, 1/3*pi, 1/2*pi, 1/2*pi, 1/3*pi): 4.89809226949358, (1/5*pi, 1/2*pi, 1/2*pi, 1/2*pi, 1/3*pi): 4.208942570286612, (1/4*pi, 1/2*pi, 1/2*pi, 1/3*pi, 1/2*pi): 3.810269273416166, (1/3*pi, 1/2*pi, 1/2*pi, 1/2*pi, 1/2*pi): 2.5, (1/5*pi, 1/2*pi, 1/3*pi, 1/2*pi, 1/2*pi): 4.208942570286612, (1/3*pi, 1/2*pi, 1/3*pi, 1/5*pi, 1/2*pi): 3.616361391759435, (1/3*pi, 1/2*pi, 1/5*pi, 1/2*pi, 1/2*pi): 3.7162209690572383, (1/5*pi, 1/3*pi, 1/2*pi, 1/2*pi, 1/2*pi): 4.208942570286612, (1/3*pi, 1/4*pi, 1/2*pi, 1/2*pi, 1/2*pi): 3.57915779781497, (1/3*pi, 1/2*pi, 1/5*pi, 1/2*pi, 1/5*pi): 4.866178388869429, (1/3*pi, 1/2*pi, 1/5*pi, 1/3*pi, 1/2*pi): 3.616361391759435, (1/3*pi, 1/2*pi, 1/5*pi, 1/4*pi, 1/2*pi): 3.163846017132017, (1/3*pi, 1/3*pi, 1/2*pi, 1/2*pi, 1/5*pi): 3.616361391759435, (1/3*pi, 1/2*pi, 1/5*pi, 1/5*pi, 1/2*pi): 2.773561314103791, (1/3*pi, 1/5*pi, 1/2*pi, 1/5*pi, 1/2*pi): 4.866178388869429, (1/3*pi, 1/2*pi, 1/2*pi, 1/2*pi, 1/5*pi): 3.7162209690572383, (1/4*pi, 1/2*pi, 1/3*pi, 1/2*pi, 1/3*pi): 4.974873703802181, (1/3*pi, 1/4*pi, 1/2*pi, 1/4*pi, 1/2*pi): 4.616156374329701, (1/3*pi, 1/5*pi, 1/2*pi, 1/2*pi, 1/4*pi): 3.163846017132017, (1/3*pi, 1/2*pi, 1/2*pi, 1/4*pi, 1/2*pi): 3.57915779781497, (1/3*pi, 1/2*pi, 1/4*pi, 1/2*pi, 1/2*pi): 3.57915779781497, (1/3*pi, 1/3*pi, 1/2*pi, 1/3*pi, 1/2*pi): 4.065384131774174, (1/3*pi, 1/4*pi, 1/2*pi, 1/5*pi, 1/2*pi): 4.742217541591458, (1/3*pi, 1/2*pi, 1/3*pi, 1/3*pi, 1/2*pi): 3.2539035980991176, (1/3*pi, 1/3*pi, 1/2*pi, 1/2*pi, 1/4*pi): 3.5007905241658945, (1/3*pi, 1/2*pi, 1/3*pi, 1/2*pi, 1/3*pi): 4.065384131774174, (1/4*pi, 1/2*pi, 1/2*pi, 1/2*pi, 1/2*pi): 2.7071069633883704, (1/3*pi, 1/2*pi, 1/4*pi, 1/3*pi, 1/2*pi): 3.5007905241658945, (1/5*pi, 1/2*pi, 1/3*pi, 1/2*pi, 1/3*pi): 5.748501123145138, (1/3*pi, 1/4*pi, 1/2*pi, 1/2*pi, 1/3*pi): 3.5007905241658945, (1/3*pi, 1/4*pi, 1/2*pi, 1/2*pi, 1/4*pi): 3.0719314355677994, (1/3*pi, 1/5*pi, 1/2*pi, 1/4*pi, 1/2*pi): 4.742217541591458, (1/3*pi, 1/3*pi, 1/2*pi, 1/2*pi, 1/3*pi): 3.2539035980991176, (1/5*pi, 1/2*pi, 1/2*pi, 1/2*pi, 1/2*pi): 2.8090169067000628, (1/3*pi, 1/2*pi, 1/2*pi, 1/3*pi, 1/2*pi): 3.288294414278926, (1/3*pi, 1/5*pi, 1/2*pi, 1/3*pi, 1/2*pi): 4.474353946688198, (1/3*pi, 1/2*pi, 1/2*pi, 1/2*pi, 1/4*pi): 3.57915779781497, (1/4*pi, 1/3*pi, 1/2*pi, 1/2*pi, 1/3*pi): 4.1372843057418045, (1/3*pi, 1/5*pi, 1/2*pi, 1/2*pi, 1/3*pi): 3.616361391759435, (1/3*pi, 1/2*pi, 1/4*pi, 1/2*pi, 1/3*pi): 4.344367098860234, (1/4*pi, 1/3*pi, 1/2*pi, 1/2*pi, 1/2*pi): 3.810269273416166, (1/3*pi, 1/2*pi, 1/2*pi, 1/5*pi, 1/2*pi): 3.7162209690572383, (1/3*pi, 1/4*pi, 1/2*pi, 1/2*pi, 1/5*pi): 3.163846017132017, (1/3*pi, 1/2*pi, 1/5*pi, 1/2*pi, 1/3*pi): 4.474353946688198, (1/3*pi, 1/3*pi, 1/2*pi, 1/2*pi, 1/2*pi): 3.288294414278926, (1/5*pi, 1/2*pi, 1/2*pi, 1/3*pi, 1/2*pi): 4.208942570286612, (1/3*pi, 1/2*pi, 1/3*pi, 1/2*pi, 1/2*pi): 3.288294414278926, (1/3*pi, 1/3*pi, 1/2*pi, 1/4*pi, 1/2*pi): 4.344367098860234}\n",
      "Number of different ridges = 24\n"
     ]
    }
   ],
   "source": [
    "##############################################################################\n",
    "#                          Proof of Theorem A                           #\n",
    "#  \"From geometry to arithmeticity of compact hyperbolic Coxeter polytopes\"  #\n",
    "##############################################################################\n",
    "\n",
    "import itertools\n",
    "from collections import OrderedDict\n",
    "\n",
    "#\n",
    "# Possible angles for proof of Main Theorem 1 after Propositions 3.1 and 3.2\n",
    "#\n",
    "\n",
    "angles = [pi/2, pi/3, pi/4, pi/5]\n",
    "\n",
    "B = itertools.product(*[angles for i in range(5)])\n",
    "\n",
    "A.<T> = PolynomialRing(QQ)\n",
    "\n",
    "sols = []\n",
    "CH = {}\n",
    "bounds = {}\n",
    "\n",
    "\n",
    "# b[0] = alpha_12\n",
    "# b[1] = alpha_13\n",
    "# b[2] = alpha_23\n",
    "# b[3] = alpha_14\n",
    "# b[4] = alpha_24\n",
    "\n",
    "for b in B:\n",
    "    #\n",
    "    # Check Lemma 2.1 (i) condition:\n",
    "    #\n",
    "    if ((b[0]+b[1]+b[2] - pi > 0) and (b[0]+b[3]+b[4] - pi > 0) and b[0]<pi/2): ### b[0] = angle_12 < pi/2\n",
    "\n",
    "        #\n",
    "        # Gram matrix G = G(u1,u2,u3,u4)\n",
    "        #\n",
    "        # G = matrix([[1, -cos(b[0]), -cos(b[1]), -cos(b[3])], [-cos(b[0]), 1, -cos(b[2]), -cos(b[4])], [-cos(b[1]), -cos(b[2]), 1, -T], [-cos(b[3]), -cos(b[4]), -T, 1]])\n",
    "        #\n",
    "        # Algebraic complements G_ij:\n",
    "        #\n",
    "\n",
    "        G34 = matrix([[1, -cos(b[0]), -cos(b[1])], [-cos(b[0]), 1, -cos(b[2])], [-cos(b[3]), -cos(b[4]), -T]])\n",
    "        G33 = matrix([[1, -cos(b[0]), -cos(b[3])], [-cos(b[0]), 1, -cos(b[4])], [-cos(b[3]), -cos(b[4]), 1]])\n",
    "        G44 = matrix([[1, -cos(b[0]), -cos(b[1])], [-cos(b[0]), 1, -cos(b[2])], [-cos(b[1]), -cos(b[2]), 1]])\n",
    "\n",
    "        a1 = (cos(b[1]) + cos(b[0])*cos(b[2]))/(sin(b[0])*sin(b[2])) # cos alpha_1\n",
    "        a3 = (cos(b[2]) + cos(b[0])*cos(b[1]))/(sin(b[0])*sin(b[1])) # cos alpha_3\n",
    "\n",
    "        a2 = (cos(b[3]) + cos(b[0])*cos(b[4]))/(sin(b[0])*sin(b[4])) # cos alpha_2\n",
    "        a4 = (cos(b[4]) + cos(b[0])*cos(b[3]))/(sin(b[0])*sin(b[3])) # cos alpha_4\n",
    "\n",
    "        a1s = sqrt((1-a1)/2) # sin (alpha_1/2)\n",
    "        a1c = sqrt((1+a1)/2) # cos (alpha_1/2)\n",
    "\n",
    "        a2s = sqrt((1-a2)/2) # sin (alpha_2/2)\n",
    "        a2c = sqrt((1+a2)/2) # cos (alpha_2/2)\n",
    "\n",
    "        a3s = sqrt((1-a3)/2) # sin (alpha_3/2)\n",
    "        a3c = sqrt((1+a3)/2) # cos (alpha_3/2)\n",
    "        \n",
    "        a4s = sqrt((1-a4)/2) # sin (alpha_4/2)\n",
    "        a4c = sqrt((1+a4)/2) # cos (alpha_4/2)\n",
    "\n",
    "        A0 = tanh(ln(cot(b[0]/4))) # this is actually cos (b[0]/2) = cos (alpha_12/2)\n",
    "        \n",
    "        lng1 = arcsinh(A0/(a1s/a1c)) + arcsinh(A0/(a2s/a2c)) # F_{1,2} (alpha)\n",
    "        lng2 = arcsinh(A0/(a3s/a3c)) + arcsinh(A0/(a4s/a4c)) # F_{3,4} (alpha)\n",
    "\n",
    "        l = max(lng1,lng2) # Corollary 3: F(alpha) = max {F_{1,2} (alpha), F_{3,4} (alpha)}\n",
    "        \n",
    "        T = var('T') # width of a small ridge\n",
    "        #\n",
    "        # Inequality: G34/sqrt(G33*G44) = cosh(a) <= cosh F(alpha)\n",
    "        #\n",
    "        eq = (- G34.det(A)/sqrt(abs(det(G33)*det(G44))) <= float(cosh(l)))\n",
    "        #sols.append(solve(eq, T, solution_dict=True)[0])\n",
    "        \n",
    "        st = solve(eq, T, solution_dict=True)[0][0]\n",
    "\n",
    "        # CH[(float(b[0]), float(b[1]), float(b[2]), float(b[3]), float(b[4]))] = mathem(st)\n",
    "        bounds[(b[0],b[1],b[2],b[3],b[4])] = mathem(st)\n",
    "        sols.append(mathem(st))\n",
    "# (b[0],b[1],b[2],b[3],b[4])\n",
    "#print 'CH=', CH[(float(pi/2), float(pi/2), float(pi/2), float(pi/2), float(pi/2))]\n",
    "\n",
    "print bounds\n",
    "\n",
    "#print(latex(bounds))\n",
    "\n",
    "#for t in sorted(sols):\n",
    "#    print t\n",
    "\n",
    "bbbb = len(list(OrderedDict.fromkeys(sols)))\n",
    "print 'Number of different ridges =', bbbb"
   ]
  },
  {
   "cell_type": "code",
   "execution_count": 3,
   "metadata": {
    "collapsed": false
   },
   "outputs": [
    {
     "name": "stdout",
     "output_type": "stream",
     "text": [
      "1.03046531284\n",
      "1.03046531284\n",
      "1.33058652448\n",
      "1.33058652448\n",
      "1.34636779963\n",
      "1.34636779963\n",
      "1.34636779963\n",
      "1.34636779963\n",
      "1.44879249939\n",
      "1.44879249939\n",
      "1.81509375961\n",
      "1.81509375961\n",
      "1.86602534022\n",
      "1.88173350883\n",
      "1.88173350883\n",
      "1.88173350883\n",
      "1.88173350883\n",
      "1.90405160218\n",
      "1.90405160218\n",
      "1.90405160218\n",
      "1.90405160218\n",
      "1.93085548347\n",
      "1.93085548347\n",
      "1.93085548347\n",
      "1.93085548347\n",
      "1.97474489796\n",
      "1.97474489796\n",
      "2.0\n",
      "2.00987348014\n",
      "2.00987348014\n",
      "2.00987348014\n",
      "2.00987348014\n",
      "2.06066021599\n",
      "2.06066021599\n",
      "2.06066021599\n",
      "2.06066021599\n",
      "2.08905731333\n",
      "2.08905731333\n",
      "2.08905731333\n",
      "2.08905731333\n",
      "2.09717675133\n",
      "2.09717675133\n",
      "2.09717675133\n",
      "2.09717675133\n",
      "2.10188770571\n",
      "2.10188770571\n",
      "2.14913653544\n",
      "2.14913653544\n",
      "2.22302677317\n",
      "2.22302677317\n",
      "2.22302677317\n",
      "2.22302677317\n",
      "2.28023909986\n",
      "2.28023909986\n",
      "2.28023909986\n",
      "2.28023909986\n",
      "2.30464346426\n",
      "2.30464346426\n",
      "2.30464346426\n",
      "2.30464346426\n",
      "2.33197743463\n",
      "2.33197743463\n",
      "2.33197743463\n",
      "2.33197743463\n",
      "2.41369537584\n",
      "2.41369537584\n",
      "2.41369537584\n",
      "2.41369537584\n",
      "2.4270508654\n",
      "2.4270508654\n",
      "2.4270508654\n",
      "2.4270508654\n",
      "2.48710392108\n",
      "2.48710392108\n",
      "2.48710392108\n",
      "2.48710392108\n",
      "2.49627278453\n",
      "2.49627278453\n",
      "2.49627278453\n",
      "2.49627278453\n",
      "2.5\n",
      "2.53063768261\n",
      "2.53063768261\n",
      "2.53063768261\n",
      "2.53063768261\n",
      "2.54380147763\n",
      "2.54380147763\n",
      "2.54380147763\n",
      "2.54380147763\n",
      "2.5489020017\n",
      "2.5489020017\n",
      "2.5489020017\n",
      "2.5489020017\n",
      "2.56693021181\n",
      "2.56693021181\n",
      "2.56693021181\n",
      "2.56693021181\n",
      "2.57625068232\n",
      "2.57625068232\n",
      "2.57625068232\n",
      "2.57625068232\n",
      "2.58347220264\n",
      "2.58347220264\n",
      "2.58347220264\n",
      "2.58347220264\n",
      "2.66117304896\n",
      "2.66117304896\n",
      "2.66117304896\n",
      "2.66117304896\n",
      "2.69273559926\n",
      "2.69273559926\n",
      "2.69273559926\n",
      "2.69273559926\n",
      "2.70710696339\n",
      "2.75\n",
      "2.75\n",
      "2.84239033426\n",
      "2.84239033426\n",
      "2.84239033426\n",
      "2.84239033426\n",
      "2.86602516654\n",
      "2.89864808685\n",
      "2.89864808685\n",
      "2.89864808685\n",
      "2.89864808685\n",
      "2.91421362489\n",
      "2.91421362489\n",
      "2.91605825269\n",
      "2.91605825269\n",
      "2.91605825269\n",
      "2.91605825269\n",
      "2.92387968079\n",
      "2.95437318508\n",
      "2.95437318508\n",
      "2.95437318508\n",
      "2.95437318508\n",
      "2.96585580443\n",
      "2.96585580443\n",
      "2.96585580443\n",
      "2.96585580443\n",
      "2.9820507735\n",
      "2.9820507735\n",
      "2.98896260836\n",
      "2.98896260836\n",
      "2.98896260836\n",
      "2.98896260836\n",
      "2.99420581108\n",
      "2.99420581108\n",
      "3.07193143557\n",
      "3.07193143557\n",
      "3.2539035981\n",
      "3.2539035981\n",
      "3.28829441428\n",
      "3.28829441428\n",
      "3.28829441428\n",
      "3.28829441428\n",
      "3.50079052417\n",
      "3.50079052417\n",
      "3.50079052417\n",
      "3.50079052417\n",
      "3.57915779781\n",
      "3.57915779781\n",
      "3.57915779781\n",
      "3.57915779781\n",
      "3.81026927342\n",
      "3.81026927342\n",
      "3.81026927342\n",
      "3.81026927342\n",
      "4.06538413177\n",
      "4.06538413177\n",
      "4.13728430574\n",
      "4.13728430574\n",
      "4.34436709886\n",
      "4.34436709886\n",
      "4.34436709886\n",
      "4.34436709886\n",
      "4.61615637433\n",
      "4.61615637433\n",
      "4.9748737038\n",
      "4.9748737038\n",
      "Number of different ridges = 58\n"
     ]
    }
   ],
   "source": [
    "import itertools\n",
    "from collections import OrderedDict\n",
    "\n",
    "#\n",
    "# Possible angles for ground field Q[sqrt 2]\n",
    "#\n",
    "\n",
    "angles = [pi/2, pi/3, pi/4, pi/6, pi/8]\n",
    "\n",
    "B = itertools.product(*[angles for i in range(5)])\n",
    "\n",
    "A.<T> = PolynomialRing(QQ)\n",
    "\n",
    "sols = []\n",
    "CH = {}\n",
    "bounds = {}\n",
    "\n",
    "\n",
    "# b[0] = alpha_12\n",
    "# b[1] = alpha_13\n",
    "# b[2] = alpha_23\n",
    "# b[3] = alpha_14\n",
    "# b[4] = alpha_24\n",
    "\n",
    "for b in B:\n",
    "    #\n",
    "    # Check Lemma 2.1 (i) condition:\n",
    "    #\n",
    "    if ((b[0]+b[1]+b[2] - pi > 0) and (b[0]+b[3]+b[4] - pi > 0)):\n",
    "\n",
    "        #\n",
    "        # Gram matrix G = G(u1,u2,u3,u4)\n",
    "        #\n",
    "        # G = matrix([[1, -cos(b[0]), -cos(b[1]), -cos(b[3])], [-cos(b[0]), 1, -cos(b[2]), -cos(b[4])], [-cos(b[1]), -cos(b[2]), 1, -T], [-cos(b[3]), -cos(b[4]), -T, 1]])\n",
    "        #\n",
    "        # Algebraic complements G_ij:\n",
    "        #\n",
    "\n",
    "        G34 = matrix([[1, -cos(b[0]), -cos(b[1])], [-cos(b[0]), 1, -cos(b[2])], [-cos(b[3]), -cos(b[4]), -T]])\n",
    "        G33 = matrix([[1, -cos(b[0]), -cos(b[3])], [-cos(b[0]), 1, -cos(b[4])], [-cos(b[3]), -cos(b[4]), 1]])\n",
    "        G44 = matrix([[1, -cos(b[0]), -cos(b[1])], [-cos(b[0]), 1, -cos(b[2])], [-cos(b[1]), -cos(b[2]), 1]])\n",
    "\n",
    "        a1 = (cos(b[1]) + cos(b[0])*cos(b[2]))/(sin(b[0])*sin(b[2])) # cos alpha_1\n",
    "        a3 = (cos(b[2]) + cos(b[0])*cos(b[1]))/(sin(b[0])*sin(b[1])) # cos alpha_3\n",
    "\n",
    "        a2 = (cos(b[3]) + cos(b[0])*cos(b[4]))/(sin(b[0])*sin(b[4])) # cos alpha_2\n",
    "        a4 = (cos(b[4]) + cos(b[0])*cos(b[3]))/(sin(b[0])*sin(b[3])) # cos alpha_4\n",
    "\n",
    "        a1s = sqrt((1-a1)/2) # sin (alpha_1/2)\n",
    "        a1c = sqrt((1+a1)/2) # cos (alpha_1/2)\n",
    "\n",
    "        a2s = sqrt((1-a2)/2) # sin (alpha_2/2)\n",
    "        a2c = sqrt((1+a2)/2) # cos (alpha_2/2)\n",
    "\n",
    "        a3s = sqrt((1-a3)/2) # sin (alpha_3/2)\n",
    "        a3c = sqrt((1+a3)/2) # cos (alpha_3/2)\n",
    "        \n",
    "        a4s = sqrt((1-a4)/2) # sin (alpha_4/2)\n",
    "        a4c = sqrt((1+a4)/2) # cos (alpha_4/2)\n",
    "\n",
    "        A0 = tanh(ln(cot(b[0]/4))) # this is actually cos (b[0]/2) = cos (alpha_12/2)\n",
    "        \n",
    "        lng1 = arcsinh(A0/(a1s/a1c)) + arcsinh(A0/(a2s/a2c)) # F_{1,2} (alpha)\n",
    "        lng2 = arcsinh(A0/(a3s/a3c)) + arcsinh(A0/(a4s/a4c)) # F_{3,4} (alpha)\n",
    "\n",
    "        l = max(lng1,lng2) # Corollary 3: F(alpha) = max {F_{1,2} (alpha), F_{3,4} (alpha)}\n",
    "        \n",
    "        T = var('T') # width of a small ridge\n",
    "        #\n",
    "        # Inequality: G34/sqrt(G33*G44) = cosh(a) <= cosh F(alpha)\n",
    "        #\n",
    "        eq = (- G34.det(A)/sqrt(abs(det(G33)*det(G44))) <= float(cosh(l)))\n",
    "        #sols.append(solve(eq, T, solution_dict=True)[0])\n",
    "        \n",
    "        st = solve(eq, T, solution_dict=True)[0][0]\n",
    "\n",
    "        CH[(float(b[0]), float(b[1]), float(b[2]), float(b[3]), float(b[4]))] = mathem(st)\n",
    "        bounds[(b[0],b[1],b[2],b[3],b[4])] = mathem(st)\n",
    "        sols.append(mathem(st))\n",
    "#(b[0],b[1],b[2],b[3],b[4])\n",
    "#float(b[0]), float(b[1]), float(b[2]), float(b[3]), float(b[4])\n",
    "#print 'CH=', CH[(float(pi/2), float(pi/2), float(pi/2), float(pi/2), float(pi/2))]\n",
    "\n",
    "#print bounds\n",
    "\n",
    "#print(latex(bounds))\n",
    "\n",
    "for t in sorted(sols):\n",
    "    print t\n",
    "\n",
    "bbbb = len(list(OrderedDict.fromkeys(sols)))\n",
    "print 'Number of different ridges =', bbbb"
   ]
  },
  {
   "cell_type": "code",
   "execution_count": 27,
   "metadata": {
    "collapsed": false
   },
   "outputs": [
   ],
   "source": [
    "#\n",
    "# Candidate-lattices for Theorem C\n",
    "#\n",
    "\n",
    "\n",
    "\n",
    "K = QQ[sqrt(2)]\n",
    "\n",
    "Aut = K.automorphisms()\n",
    "\n",
    "def Admissible(M):\n",
    "    assert M.is_square()\n",
    "    assert M.is_symmetric()\n",
    "    n = M.ncols()\n",
    "\n",
    "    if not (det(M)<0):\n",
    "        return False\n",
    "\n",
    "    return matrix([[Aut[1](M[i,j]) for i in range(n)] for j in range(n)]).is_positive_definite()\n",
    "\n",
    "\n",
    "def MatricesGenerator():\n",
    "    pass\n",
    "\n",
    "def Matrices():\n",
    "    Matr = []\n",
    "    abc = [1,2,2+sqrt(2)]\n",
    "    an = [0,1,sqrt(2),1+sqrt(2)]\n",
    "    k=0\n",
    "    for a0, a1, a2, a3 in itertools.combinations_with_replacement(abc,4):\n",
    "                    for b0, b1, b2, b3, b4 in itertools.combinations_with_replacement(an,5):\n",
    "                                        if (arccos(b0/sqrt(a0*a1)) + arccos(b1/sqrt(a0*a2)) + arccos(b3/sqrt(a2*a1)) - pi > 0):\n",
    "                                            if (arccos(b0/sqrt(a0*a1)) + arccos(b4/sqrt(a1*a3)) + arccos(b2/sqrt(a3*a0)) - pi > 0):\n",
    "                                                c = sqrt(a2*a3)\n",
    "                                                d = sqrt((Aut[1](a2))*(Aut[1](a3)))\n",
    "                                                \n",
    "                                                \n",
    "                                                if (float(arccos(b0/sqrt(a0*a1))), float(arccos(b1/sqrt(a0*a2))), \n",
    "                                                              float(arccos(b3/sqrt(a2*a1))), float(arccos(b4/sqrt(a1*a3))), \n",
    "                                                              float(arccos(b2/sqrt(a3*a0)))) in CH:\n",
    "                                                    t = CH[(float(arccos(b0/sqrt(a0*a1))), float(arccos(b1/sqrt(a0*a2))), \n",
    "                                                              float(arccos(b3/sqrt(a2*a1))), float(arccos(b4/sqrt(a1*a3))), \n",
    "                                                              float(arccos(b2/sqrt(a3*a0))))]\n",
    "                                                    #print t\n",
    "                                                    t11 = floor((d+t*c)/(2*sqrt(2)))+1\n",
    "                                                    t10 = (c-d)/2 - 1\n",
    "                                                    t21 = floor(((2*t-1)*c+d)/(2*sqrt(2))) + 1\n",
    "                                                    t20 = (c-d)/(2*sqrt(2)) - 1\n",
    "                                                \n",
    "                                                    for T1 in xrange(t10,t11):\n",
    "                                                        for T2 in range(t20,t21):\n",
    "                                                            if ((T1+T2*sqrt(2)-3*sqrt(a2*a3) < 0) and (T1 + T2*sqrt(2) > 0)):\n",
    "                                                            \n",
    "                                                                M = matrix([[a0, -b0, -b1, -b2],\n",
    "                                                                        [-b0, a1, -b3, -b4],\n",
    "                                                                        [-b1, -b3, a2, -(T1+T2*sqrt(2))],\n",
    "                                                                        [-b2, -b4, -(T1+T2*sqrt(2)), a3]])\n",
    "                                                                if(Admissible(M) == True):\n",
    "                                                                    k = k+1\n",
    "                                                                    Matr.append(M)\n",
    "                                                                    #print(M)\n",
    "                                                                    #print det(M)\n",
    "                                                else:\n",
    "                                                    t = 0\n",
    "                                                    #print t\n",
    "                                                \n",
    "                                                    t11 = floor((d+t*c)/(2*sqrt(2)))+1\n",
    "                                                    t10 = (c-d)/2 - 1\n",
    "                                                    t21 = floor(((2*t-1)*c+d)/(2*sqrt(2))) + 1\n",
    "                                                    t20 = (c-d)/(2*sqrt(2)) - 1\n",
    "                                                \n",
    "                                                    for T1 in xrange(t10,t11):\n",
    "                                                        for T2 in range(t20,t21):\n",
    "                                                            if ((T1+T2*sqrt(2)-3*sqrt(a2*a3) < 0) and (T1 + T2*sqrt(2) > 0)):\n",
    "                                                            \n",
    "                                                                M = matrix([[a0, -b0, -b1, -b2],\n",
    "                                                                        [-b0, a1, -b3, -b4],\n",
    "                                                                        [-b1, -b3, a2, -(T1+T2*sqrt(2))],\n",
    "                                                                        [-b2, -b4, -(T1+T2*sqrt(2)), a3]])\n",
    "                                                                if(Admissible(M) == True):\n",
    "                                                                    k = k+1\n",
    "                                                                    Matr.append(M)\n",
    "                                                                    #print(M)\n",
    "                                                                    #print det(M)\n",
    "    #print 'k=',k\n",
    "    return(Matr)\n",
    "\n",
    "#print Matrices()"
   ]
  },
  {
   "cell_type": "code",
   "execution_count": 11,
   "metadata": {
    "collapsed": false
   },
   "outputs": [
    {
     "name": "stdout",
     "output_type": "stream",
     "text": [
      "Number of candidated for stably reflectivity:"
     ]
    },
    {
     "name": "stdout",
     "output_type": "stream",
     "text": [
      " 83\n"
     ]
    }
   ],
   "source": [
    "print 'Number of candidates for stably reflectivity:', len(Matrices())"
   ]
  },
  {
   "cell_type": "code",
   "execution_count": 12,
   "metadata": {
    "collapsed": false
   },
   "outputs": [
    {
     "name": "stdout",
     "output_type": "stream",
     "text": [
      "[           1            0            0            0]\n",
      "[           0            1            0            0]\n",
      "[           0            0            1 -sqrt(2) - 1]\n",
      "[           0            0 -sqrt(2) - 1            1]\n",
      "-2*sqrt(2) - 2\n",
      "[           1            0            0            0]\n",
      "[           0            1            0            0]\n",
      "[           0            0            1 -sqrt(2) - 1]\n",
      "[           0            0 -sqrt(2) - 1            2]\n",
      "-2*sqrt(2) - 1\n",
      "[           1            0            0            0]\n",
      "[           0            1            0           -1]\n",
      "[           0            0            1 -sqrt(2) - 1]\n",
      "[           0           -1 -sqrt(2) - 1            2]\n",
      "-2*sqrt(2) - 2\n",
      "[           1            0            0            0]\n",
      "[           0            1            0            0]\n",
      "[           0            0            1 -sqrt(2) - 1]\n",
      "[           0            0 -sqrt(2) - 1  sqrt(2) + 2]\n",
      "-sqrt(2) - 1\n",
      "[           1            0            0            0]\n",
      "[           0            1            0            0]\n",
      "[           0            0            2 -sqrt(2) - 1]\n",
      "[           0            0 -sqrt(2) - 1            2]\n",
      "-2*sqrt(2) + 1\n",
      "[             1              0              0              0]\n",
      "[             0              1              0              0]\n",
      "[             0              0              2 -2*sqrt(2) - 1]\n",
      "[             0              0 -2*sqrt(2) - 1              2]\n",
      "-4*sqrt(2) - 5\n",
      "[           1            0            0            0]\n",
      "[           0            1            0            0]\n",
      "[           0            0            2 -sqrt(2) - 2]\n",
      "[           0            0 -sqrt(2) - 2            2]\n",
      "-4*sqrt(2) - 2\n",
      "[             1              0              0              0]\n",
      "[             0              1              0              0]\n",
      "[             0              0              2 -2*sqrt(2) - 2]\n",
      "[             0              0 -2*sqrt(2) - 2              2]\n",
      "-8*sqrt(2) - 8\n",
      "[           1            0            0            0]\n",
      "[           0            1            0           -1]\n",
      "[           0            0            2 -sqrt(2) - 1]\n",
      "[           0           -1 -sqrt(2) - 1            2]\n",
      "-2*sqrt(2) - 1\n",
      "[           1            0            0            0]\n",
      "[           0            1            0           -1]\n",
      "[           0            0            2 -sqrt(2) - 2]\n",
      "[           0           -1 -sqrt(2) - 2            2]\n",
      "-4*sqrt(2) - 4\n",
      "[             1              0              0              0]\n",
      "[             0              1              0             -1]\n",
      "[             0              0              2 -2*sqrt(2) - 2]\n",
      "[             0             -1 -2*sqrt(2) - 2              2]\n",
      "-8*sqrt(2) - 10\n",
      "[       1        0        0        0]\n",
      "[       0        1       -1       -1]\n",
      "[       0       -1        2 -sqrt(2)]\n",
      "[       0       -1 -sqrt(2)        2]\n",
      "-2*sqrt(2) - 2\n",
      "[           1            0            0            0]\n",
      "[           0            1           -1           -1]\n",
      "[           0           -1            2 -sqrt(2) - 1]\n",
      "[           0           -1 -sqrt(2) - 1            2]\n",
      "-4*sqrt(2) - 5\n",
      "[             1              0              0              0]\n",
      "[             0              1             -1             -1]\n",
      "[             0             -1              2 -2*sqrt(2) - 1]\n",
      "[             0             -1 -2*sqrt(2) - 1              2]\n",
      "-8*sqrt(2) - 11\n",
      "[           1            0            0            0]\n",
      "[           0            1            0            0]\n",
      "[           0            0            2 -sqrt(2) - 2]\n",
      "[           0            0 -sqrt(2) - 2  sqrt(2) + 2]\n",
      "-2*sqrt(2) - 2\n",
      "[             1              0              0              0]\n",
      "[             0              1              0              0]\n",
      "[             0              0              2 -2*sqrt(2) - 2]\n",
      "[             0              0 -2*sqrt(2) - 2    sqrt(2) + 2]\n",
      "-6*sqrt(2) - 8\n",
      "[           1            0            0            0]\n",
      "[           0            2            0            0]\n",
      "[           0            0            2 -sqrt(2) - 1]\n",
      "[           0            0 -sqrt(2) - 1            2]\n",
      "-4*sqrt(2) + 2\n",
      "[             1              0              0              0]\n",
      "[             0              2              0              0]\n",
      "[             0              0              2 -2*sqrt(2) - 1]\n",
      "[             0              0 -2*sqrt(2) - 1              2]\n",
      "-8*sqrt(2) - 10\n",
      "[           1            0            0            0]\n",
      "[           0            2            0            0]\n",
      "[           0            0            2 -sqrt(2) - 2]\n",
      "[           0            0 -sqrt(2) - 2            2]\n",
      "-8*sqrt(2) - 4\n",
      "[             1              0              0              0]\n",
      "[             0              2              0              0]\n",
      "[             0              0              2 -2*sqrt(2) - 2]\n",
      "[             0              0 -2*sqrt(2) - 2              2]\n",
      "-16*sqrt(2) - 16\n",
      "[           1            0            0            0]\n",
      "[           0            2            0           -1]\n",
      "[           0            0            2 -sqrt(2) - 1]\n",
      "[           0           -1 -sqrt(2) - 1            2]\n",
      "-4*sqrt(2)\n",
      "[           1            0            0            0]\n",
      "[           0            2            0           -1]\n",
      "[           0            0            2 -sqrt(2) - 2]\n",
      "[           0           -1 -sqrt(2) - 2            2]\n",
      "-8*sqrt(2) - 6\n",
      "[             1              0              0              0]\n",
      "[             0              2              0             -1]\n",
      "[             0              0              2 -2*sqrt(2) - 2]\n",
      "[             0             -1 -2*sqrt(2) - 2              2]\n",
      "-16*sqrt(2) - 18\n",
      "[           1            0            0            0]\n",
      "[           0            2            0     -sqrt(2)]\n",
      "[           0            0            2 -sqrt(2) - 1]\n",
      "[           0     -sqrt(2) -sqrt(2) - 1            2]\n",
      "-4*sqrt(2) - 2\n",
      "[           1            0            0            0]\n",
      "[           0            2            0     -sqrt(2)]\n",
      "[           0            0            2 -sqrt(2) - 2]\n",
      "[           0     -sqrt(2) -sqrt(2) - 2            2]\n",
      "-8*sqrt(2) - 8\n",
      "[             1              0              0              0]\n",
      "[             0              2              0       -sqrt(2)]\n",
      "[             0              0              2 -2*sqrt(2) - 2]\n",
      "[             0       -sqrt(2) -2*sqrt(2) - 2              2]\n",
      "-16*sqrt(2) - 20\n",
      "[       1        0        0        0]\n",
      "[       0        2       -1       -1]\n",
      "[       0       -1        2 -sqrt(2)]\n",
      "[       0       -1 -sqrt(2)        2]\n",
      "-2*sqrt(2)\n",
      "[           1            0            0            0]\n",
      "[           0            2           -1           -1]\n",
      "[           0           -1            2 -sqrt(2) - 1]\n",
      "[           0           -1 -sqrt(2) - 1            2]\n",
      "-6*sqrt(2) - 4\n",
      "[             1              0              0              0]\n",
      "[             0              2             -1             -1]\n",
      "[             0             -1              2 -2*sqrt(2) - 1]\n",
      "[             0             -1 -2*sqrt(2) - 1              2]\n",
      "-12*sqrt(2) - 16\n",
      "[           1            0            0            0]\n",
      "[           0            2           -1           -1]\n",
      "[           0           -1            2 -sqrt(2) - 2]\n",
      "[           0           -1 -sqrt(2) - 2            2]\n",
      "-10*sqrt(2) - 12\n",
      "[             1              0              0              0]\n",
      "[             0              2             -1             -1]\n",
      "[             0             -1              2 -2*sqrt(2) - 2]\n",
      "[             0             -1 -2*sqrt(2) - 2              2]\n",
      "-20*sqrt(2) - 24\n",
      "[       1        0        0        0]\n",
      "[       0        2       -1 -sqrt(2)]\n",
      "[       0       -1        2       -1]\n",
      "[       0 -sqrt(2)       -1        2]\n",
      "-2*sqrt(2)\n",
      "[           1            0            0            0]\n",
      "[           0            2           -1     -sqrt(2)]\n",
      "[           0           -1            2 -sqrt(2) - 1]\n",
      "[           0     -sqrt(2) -sqrt(2) - 1            2]\n",
      "-6*sqrt(2) - 8\n",
      "[           1            0            0            0]\n",
      "[           0            2           -1     -sqrt(2)]\n",
      "[           0           -1            2 -sqrt(2) - 2]\n",
      "[           0     -sqrt(2) -sqrt(2) - 2            2]\n",
      "-12*sqrt(2) - 14\n",
      "[       1        0        0        0]\n",
      "[       0        2 -sqrt(2) -sqrt(2)]\n",
      "[       0 -sqrt(2)        2 -sqrt(2)]\n",
      "[       0 -sqrt(2) -sqrt(2)        2]\n",
      "-4*sqrt(2) - 4\n",
      "[           1            0            0            0]\n",
      "[           0            2     -sqrt(2)     -sqrt(2)]\n",
      "[           0     -sqrt(2)            2 -sqrt(2) - 1]\n",
      "[           0     -sqrt(2) -sqrt(2) - 1            2]\n",
      "-8*sqrt(2) - 10\n",
      "[             1              0              0              0]\n",
      "[             0              2       -sqrt(2)       -sqrt(2)]\n",
      "[             0       -sqrt(2)              2 -2*sqrt(2) - 1]\n",
      "[             0       -sqrt(2) -2*sqrt(2) - 1              2]\n",
      "-16*sqrt(2) - 22\n",
      "[           1            0            0           -1]\n",
      "[           0            2           -1           -1]\n",
      "[           0           -1            2 -sqrt(2) - 1]\n",
      "[          -1           -1 -sqrt(2) - 1            2]\n",
      "-6*sqrt(2) - 7\n",
      "[             1              0              0             -1]\n",
      "[             0              2             -1             -1]\n",
      "[             0             -1              2 -2*sqrt(2) - 2]\n",
      "[            -1             -1 -2*sqrt(2) - 2              2]\n",
      "-20*sqrt(2) - 27\n",
      "[       1        0       -1       -1]\n",
      "[       0        2       -1       -1]\n",
      "[      -1       -1        2 -sqrt(2)]\n",
      "[      -1       -1 -sqrt(2)        2]\n",
      "-6*sqrt(2) - 8\n",
      "[             1              0             -1             -1]\n",
      "[             0              2             -1             -1]\n",
      "[            -1             -1              2 -2*sqrt(2) - 1]\n",
      "[            -1             -1 -2*sqrt(2) - 1              2]\n",
      "-20*sqrt(2) - 28\n",
      "[           1            0            0            0]\n",
      "[           0            2            0            0]\n",
      "[           0            0            2 -sqrt(2) - 2]\n",
      "[           0            0 -sqrt(2) - 2  sqrt(2) + 2]\n",
      "-4*sqrt(2) - 4\n",
      "[             1              0              0              0]\n",
      "[             0              2              0              0]\n",
      "[             0              0              2 -2*sqrt(2) - 2]\n",
      "[             0              0 -2*sqrt(2) - 2    sqrt(2) + 2]\n",
      "-12*sqrt(2) - 16\n",
      "[           2            0            0            0]\n",
      "[           0            2            0            0]\n",
      "[           0            0            2 -sqrt(2) - 1]\n",
      "[           0            0 -sqrt(2) - 1            2]\n",
      "-8*sqrt(2) + 4\n",
      "[             2              0              0              0]\n",
      "[             0              2              0              0]\n",
      "[             0              0              2 -2*sqrt(2) - 1]\n",
      "[             0              0 -2*sqrt(2) - 1              2]\n",
      "-16*sqrt(2) - 20\n",
      "[           2            0            0            0]\n",
      "[           0            2            0            0]\n",
      "[           0            0            2 -sqrt(2) - 2]\n",
      "[           0            0 -sqrt(2) - 2            2]\n",
      "-16*sqrt(2) - 8\n",
      "[             2              0              0              0]\n",
      "[             0              2              0              0]\n",
      "[             0              0              2 -2*sqrt(2) - 2]\n",
      "[             0              0 -2*sqrt(2) - 2              2]\n",
      "-32*sqrt(2) - 32\n",
      "[           2            0            0            0]\n",
      "[           0            2            0           -1]\n",
      "[           0            0            2 -sqrt(2) - 1]\n",
      "[           0           -1 -sqrt(2) - 1            2]\n",
      "-8*sqrt(2)\n",
      "[           2            0            0            0]\n",
      "[           0            2            0           -1]\n",
      "[           0            0            2 -sqrt(2) - 2]\n",
      "[           0           -1 -sqrt(2) - 2            2]\n",
      "-16*sqrt(2) - 12\n",
      "[             2              0              0              0]\n",
      "[             0              2              0             -1]\n",
      "[             0              0              2 -2*sqrt(2) - 2]\n",
      "[             0             -1 -2*sqrt(2) - 2              2]\n",
      "-32*sqrt(2) - 36\n",
      "[           2            0            0            0]\n",
      "[           0            2            0     -sqrt(2)]\n",
      "[           0            0            2 -sqrt(2) - 1]\n",
      "[           0     -sqrt(2) -sqrt(2) - 1            2]\n",
      "-8*sqrt(2) - 4\n",
      "[           2            0            0            0]\n",
      "[           0            2            0     -sqrt(2)]\n",
      "[           0            0            2 -sqrt(2) - 2]\n",
      "[           0     -sqrt(2) -sqrt(2) - 2            2]\n",
      "-16*sqrt(2) - 16\n",
      "[             2              0              0              0]\n",
      "[             0              2              0       -sqrt(2)]\n",
      "[             0              0              2 -2*sqrt(2) - 2]\n",
      "[             0       -sqrt(2) -2*sqrt(2) - 2              2]\n",
      "-32*sqrt(2) - 40\n",
      "[       2        0        0        0]\n",
      "[       0        2       -1       -1]\n",
      "[       0       -1        2 -sqrt(2)]\n",
      "[       0       -1 -sqrt(2)        2]\n",
      "-4*sqrt(2)\n",
      "[           2            0            0            0]\n",
      "[           0            2           -1           -1]\n",
      "[           0           -1            2 -sqrt(2) - 1]\n",
      "[           0           -1 -sqrt(2) - 1            2]\n",
      "-12*sqrt(2) - 8\n",
      "[             2              0              0              0]\n",
      "[             0              2             -1             -1]\n",
      "[             0             -1              2 -2*sqrt(2) - 1]\n",
      "[             0             -1 -2*sqrt(2) - 1              2]\n",
      "-24*sqrt(2) - 32\n",
      "[           2            0            0            0]\n",
      "[           0            2           -1           -1]\n",
      "[           0           -1            2 -sqrt(2) - 2]\n",
      "[           0           -1 -sqrt(2) - 2            2]\n",
      "-20*sqrt(2) - 24\n",
      "[             2              0              0              0]\n",
      "[             0              2             -1             -1]\n",
      "[             0             -1              2 -2*sqrt(2) - 2]\n",
      "[             0             -1 -2*sqrt(2) - 2              2]\n",
      "-40*sqrt(2) - 48\n",
      "[       2        0        0        0]\n",
      "[       0        2       -1 -sqrt(2)]\n",
      "[       0       -1        2       -1]\n",
      "[       0 -sqrt(2)       -1        2]\n",
      "-4*sqrt(2)\n",
      "[           2            0            0            0]\n",
      "[           0            2           -1     -sqrt(2)]\n",
      "[           0           -1            2 -sqrt(2) - 1]\n",
      "[           0     -sqrt(2) -sqrt(2) - 1            2]\n",
      "-12*sqrt(2) - 16\n",
      "[           2            0            0            0]\n",
      "[           0            2           -1     -sqrt(2)]\n",
      "[           0           -1            2 -sqrt(2) - 2]\n",
      "[           0     -sqrt(2) -sqrt(2) - 2            2]\n",
      "-24*sqrt(2) - 28\n",
      "[       2        0        0        0]\n",
      "[       0        2 -sqrt(2) -sqrt(2)]\n",
      "[       0 -sqrt(2)        2 -sqrt(2)]\n",
      "[       0 -sqrt(2) -sqrt(2)        2]\n",
      "-8*sqrt(2) - 8\n",
      "[           2            0            0            0]\n",
      "[           0            2     -sqrt(2)     -sqrt(2)]\n",
      "[           0     -sqrt(2)            2 -sqrt(2) - 1]\n",
      "[           0     -sqrt(2) -sqrt(2) - 1            2]\n",
      "-16*sqrt(2) - 20\n",
      "[             2              0              0              0]\n",
      "[             0              2       -sqrt(2)       -sqrt(2)]\n",
      "[             0       -sqrt(2)              2 -2*sqrt(2) - 1]\n",
      "[             0       -sqrt(2) -2*sqrt(2) - 1              2]\n",
      "-32*sqrt(2) - 44\n",
      "[       2        0        0       -1]\n",
      "[       0        2       -1       -1]\n",
      "[       0       -1        2 -sqrt(2)]\n",
      "[      -1       -1 -sqrt(2)        2]\n",
      "-4*sqrt(2) - 3\n",
      "[           2            0            0           -1]\n",
      "[           0            2           -1           -1]\n",
      "[           0           -1            2 -sqrt(2) - 1]\n",
      "[          -1           -1 -sqrt(2) - 1            2]\n",
      "-12*sqrt(2) - 11\n",
      "[           2            0            0           -1]\n",
      "[           0            2           -1           -1]\n",
      "[           0           -1            2 -sqrt(2) - 2]\n",
      "[          -1           -1 -sqrt(2) - 2            2]\n",
      "-20*sqrt(2) - 27\n",
      "[             2              0              0             -1]\n",
      "[             0              2             -1             -1]\n",
      "[             0             -1              2 -2*sqrt(2) - 2]\n",
      "[            -1             -1 -2*sqrt(2) - 2              2]\n",
      "-40*sqrt(2) - 51\n",
      "[       2        0        0       -1]\n",
      "[       0        2       -1 -sqrt(2)]\n",
      "[       0       -1        2       -1]\n",
      "[      -1 -sqrt(2)       -1        2]\n",
      "-4*sqrt(2) - 3\n",
      "[           2            0            0           -1]\n",
      "[           0            2           -1     -sqrt(2)]\n",
      "[           0           -1            2 -sqrt(2) - 2]\n",
      "[          -1     -sqrt(2) -sqrt(2) - 2            2]\n",
      "-24*sqrt(2) - 31\n",
      "[       2        0        0       -1]\n",
      "[       0        2 -sqrt(2) -sqrt(2)]\n",
      "[       0 -sqrt(2)        2 -sqrt(2)]\n",
      "[      -1 -sqrt(2) -sqrt(2)        2]\n",
      "-8*sqrt(2) - 10\n",
      "[           2            0            0           -1]\n",
      "[           0            2     -sqrt(2)     -sqrt(2)]\n",
      "[           0     -sqrt(2)            2 -sqrt(2) - 1]\n",
      "[          -1     -sqrt(2) -sqrt(2) - 1            2]\n",
      "-16*sqrt(2) - 22\n",
      "[             2              0              0             -1]\n",
      "[             0              2       -sqrt(2)       -sqrt(2)]\n",
      "[             0       -sqrt(2)              2 -2*sqrt(2) - 2]\n",
      "[            -1       -sqrt(2) -2*sqrt(2) - 2              2]\n",
      "-48*sqrt(2) - 66\n",
      "[       2        0       -1       -1]\n",
      "[       0        2       -1       -1]\n",
      "[      -1       -1        2 -sqrt(2)]\n",
      "[      -1       -1 -sqrt(2)        2]\n",
      "-8*sqrt(2) - 8\n",
      "[           2            0           -1           -1]\n",
      "[           0            2           -1           -1]\n",
      "[          -1           -1            2 -sqrt(2) - 1]\n",
      "[          -1           -1 -sqrt(2) - 1            2]\n",
      "-16*sqrt(2) - 20\n",
      "[             2              0             -1             -1]\n",
      "[             0              2             -1             -1]\n",
      "[            -1             -1              2 -2*sqrt(2) - 1]\n",
      "[            -1             -1 -2*sqrt(2) - 1              2]\n",
      "-32*sqrt(2) - 44\n",
      "[             2              0             -1             -1]\n",
      "[             0              2             -1             -1]\n",
      "[            -1             -1              2 -2*sqrt(2) - 2]\n",
      "[            -1             -1 -2*sqrt(2) - 2              2]\n",
      "-48*sqrt(2) - 64\n",
      "[           2            0           -1           -1]\n",
      "[           0            2           -1     -sqrt(2)]\n",
      "[          -1           -1            2 -sqrt(2) - 1]\n",
      "[          -1     -sqrt(2) -sqrt(2) - 1            2]\n",
      "-18*sqrt(2) - 25\n",
      "[           2            0           -1           -1]\n",
      "[           0            2           -1     -sqrt(2)]\n",
      "[          -1           -1            2 -sqrt(2) - 2]\n",
      "[          -1     -sqrt(2) -sqrt(2) - 2            2]\n",
      "-30*sqrt(2) - 41\n",
      "[       2        0       -1       -1]\n",
      "[       0        2 -sqrt(2) -sqrt(2)]\n",
      "[      -1 -sqrt(2)        2 -sqrt(2)]\n",
      "[      -1 -sqrt(2) -sqrt(2)        2]\n",
      "-12*sqrt(2) - 16\n",
      "[             2              0             -1             -1]\n",
      "[             0              2       -sqrt(2)       -sqrt(2)]\n",
      "[            -1       -sqrt(2)              2 -2*sqrt(2) - 1]\n",
      "[            -1       -sqrt(2) -2*sqrt(2) - 1              2]\n",
      "-40*sqrt(2) - 56\n",
      "[           2            0            0            0]\n",
      "[           0            2            0            0]\n",
      "[           0            0            2 -sqrt(2) - 2]\n",
      "[           0            0 -sqrt(2) - 2  sqrt(2) + 2]\n",
      "-8*sqrt(2) - 8\n",
      "[             2              0              0              0]\n",
      "[             0              2              0              0]\n",
      "[             0              0              2 -2*sqrt(2) - 2]\n",
      "[             0              0 -2*sqrt(2) - 2    sqrt(2) + 2]\n",
      "-24*sqrt(2) - 32\n"
     ]
    }
   ],
   "source": [
    "for m in Matrices():\n",
    "    print m\n",
    "    print det(m)"
   ]
  },
  {
   "cell_type": "code",
   "execution_count": 4,
   "metadata": {
    "collapsed": false
   },
   "outputs": [
   ],
   "source": [
   ]
  },
  {
   "cell_type": "code",
   "execution_count": 0,
   "metadata": {
    "collapsed": false
   },
   "outputs": [
   ],
   "source": [
   ]
  },
  {
   "cell_type": "code",
   "execution_count": 28,
   "metadata": {
    "collapsed": false
   },
   "outputs": [
   ],
   "source": [
    "#\n",
    "#\n",
    "# Coxeter diagrams of Lorentzian lattices\n",
    "#\n",
    "# Proof of Theorem C\n",
    "#"
   ]
  },
  {
   "cell_type": "code",
   "execution_count": 3,
   "metadata": {
    "collapsed": false
   },
   "outputs": [
   ],
   "source": [
    "#\n",
    "# Is a given polytope of Coxeter type ?\n",
    "#\n",
    "def isCoxeter(normals):\n",
    "    l = len(normals);\n",
    "    for i in xrange(l):\n",
    "        for j in xrange(l):\n",
    "            if i<j:\n",
    "                u = normals[i];\n",
    "                v = normals[j];\n",
    "                weight = bL(u,v)**2/fL(u)/fL(v);\n",
    "                if weight < 1:\n",
    "                    k = round(pi/arccos(sqrt(weight)));\n",
    "                    if not(minpoly(weight)==minpoly(cos(pi/k)**2)):\n",
    "                        return False;\n",
    "    return True;"
   ]
  },
  {
   "cell_type": "code",
   "execution_count": 4,
   "metadata": {
    "collapsed": false
   },
   "outputs": [
   ],
   "source": [
    "#\n",
    "# Coxeter diagram using outer normals of a polytope\n",
    "# Labels are integers:\n",
    "# n\\geq 3 : angle of \\pi/n\n",
    "# n = 0 : angle of 0, label \\infinity, or bold edge\n",
    "# n = 1 : common perpendicular, dotted edge\n",
    "#\n",
    "def Coxeter_diagram(normals):\n",
    "    g = Graph();\n",
    "    l = len(normals);\n",
    "    for i in xrange(l):\n",
    "        for j in xrange(l):\n",
    "            if (i<j):\n",
    "                u = normals[i];\n",
    "                v = normals[j];\n",
    "                weight = bL(u,v)**2/fL(u)/fL(v);\n",
    "                if weight<1:\n",
    "                    k = round(pi/arccos(sqrt(weight)));\n",
    "                    g.add_vertex(i);\n",
    "                    g.add_vertex(j);\n",
    "                    if k>2:\n",
    "                        g.add_edge(i,j,k);\n",
    "                else:\n",
    "                    if weight==1:\n",
    "                        g.add_edge(i,j,0);\n",
    "                    else:\n",
    "                        g.add_edge(i,j,1);\n",
    "    return g;"
   ]
  },
  {
   "cell_type": "code",
   "execution_count": 5,
   "metadata": {
    "collapsed": false
   },
   "outputs": [
   ],
   "source": [
    "def print_CoxIter(diag, dim):\n",
    "    print diag.order(), dim;\n",
    "    print \"vertices labels:\", str(map(lambda x: x+1, diag.vertices())).replace(\",\",\"\")[1:-1]\n",
    "    for e in diag.edges():\n",
    "        print e[0]+1, e[1]+1, e[2];"
   ]
  },
  {
   "cell_type": "code",
   "execution_count": 6,
   "metadata": {
    "collapsed": false
   },
   "outputs": [
   ],
   "source": [
    "#\n",
    "# Gram matrix of a polytope\n",
    "#\n",
    "def Gram_matrix(normals):\n",
    "    l = len(normals);\n",
    "    m = matrix(l, l, [symbolic_expression(bL(normals[i],normals[j])/sqrt(fL(normals[i])*fL(normals[j]))).canonicalize_radical() for i in xrange(l) for j in xrange(l)]);\n",
    "    return m;"
   ]
  },
  {
   "cell_type": "code",
   "execution_count": 7,
   "metadata": {
    "collapsed": false
   },
   "outputs": [
   ],
   "source": [
    "#\n",
    "# Lattice L(1)\n",
    "#\n",
    "\n",
    "#\n",
    "# Field Q[t], t=\\sqrt(2)\n",
    "#\n",
    "K.<t> = QuadraticField(2);\n",
    "#\n",
    "#\n",
    "#\n",
    "e1 = (0,K(-1),K(1),0);\n",
    "e2 = (0,0,K(-1),K(1));\n",
    "e3 = (0,0,0,K(-1));\n",
    "e4 = (1,1+t,0,0);\n",
    "e5 = (1+t,1+t,1+t,1+t);\n",
    "#\n",
    "#\n",
    "#\n",
    "L1 = map(lambda x: vector(x), [e1,e2,e3,e4,e5]);\n",
    "#\n",
    "# Bilinear form associated with L \n",
    "#\n",
    "def bL(u, v):\n",
    "    return -(1+t)*u[0]*v[0] + u[1:]*v[1:];\n",
    "#\n",
    "# Quadratic form associated with L \n",
    "#\n",
    "def fL(v):\n",
    "    return bL(v, v);"
   ]
  },
  {
   "cell_type": "code",
   "execution_count": 8,
   "metadata": {
    "collapsed": false
   },
   "outputs": [
    {
     "name": "stdout",
     "output_type": "stream",
     "text": [
      "True\n"
     ]
    },
    {
     "data": {
      "text/html": [
       "<html><script type=\"math/tex; mode=display\">\\newcommand{\\Bold}[1]{\\mathbf{#1}}\\left(\\begin{array}{rrrrr}\n",
       "1 & -\\frac{1}{2} & 0 & -\\frac{\\sqrt{2} {\\left(\\sqrt{2} + 1\\right)}}{2 \\, \\sqrt{\\sqrt{2} + 2}} & 0 \\\\\n",
       "-\\frac{1}{2} & 1 & -\\frac{1}{2} \\, \\sqrt{2} & 0 & 0 \\\\\n",
       "0 & -\\frac{1}{2} \\, \\sqrt{2} & 1 & 0 & -\\frac{\\sqrt{2} + 1}{\\sqrt{\\sqrt{2} + 2}} \\\\\n",
       "-\\frac{\\sqrt{2} {\\left(\\sqrt{2} + 1\\right)}}{2 \\, \\sqrt{\\sqrt{2} + 2}} & 0 & 0 & 1 & 0 \\\\\n",
       "0 & 0 & -\\frac{\\sqrt{2} + 1}{\\sqrt{\\sqrt{2} + 2}} & 0 & 1\n",
       "\\end{array}\\right)</script></html>"
      ],
      "text/plain": [
       "[                                           1                                         -1/2                                            0 -1/2*sqrt(2)*(sqrt(2) + 1)/sqrt(sqrt(2) + 2)                                            0]\n",
       "[                                        -1/2                                            1                                 -1/2*sqrt(2)                                            0                                            0]\n",
       "[                                           0                                 -1/2*sqrt(2)                                            1                                            0             -(sqrt(2) + 1)/sqrt(sqrt(2) + 2)]\n",
       "[-1/2*sqrt(2)*(sqrt(2) + 1)/sqrt(sqrt(2) + 2)                                            0                                            0                                            1                                            0]\n",
       "[                                           0                                            0             -(sqrt(2) + 1)/sqrt(sqrt(2) + 2)                                            0                                            1]"
      ]
     },
     "execution_count": 8,
     "metadata": {
     },
     "output_type": "execute_result"
    },
    {
     "data": {
      "image/png": "[encoded data removed]",
      "text/plain": [
       "Graphics object consisting of 14 graphics primitives"
      ]
     },
     "execution_count": 8,
     "metadata": {
     },
     "output_type": "execute_result"
    }
   ],
   "source": [
    "print isCoxeter(L1);\n",
    "\n",
    "show(Gram_matrix(L1))\n",
    "\n",
    "Coxeter_diagram(L1).plot(edge_labels=True).show()"
   ]
  },
  {
   "cell_type": "code",
   "execution_count": 9,
   "metadata": {
    "collapsed": false
   },
   "outputs": [
    {
     "name": "stdout",
     "output_type": "stream",
     "text": [
      "5 3\n",
      "vertices labels: 1 2 3 4 5\n",
      "1 2 3\n",
      "1 4 8\n",
      "2 3 4\n",
      "3 5 1\n"
     ]
    }
   ],
   "source": [
    "d1 = Coxeter_diagram(L1)\n",
    "print_CoxIter(d1, 3)"
   ]
  },
  {
   "cell_type": "code",
   "execution_count": 10,
   "metadata": {
    "collapsed": false
   },
   "outputs": [
   ],
   "source": [
    "#\n",
    "# Lattice L(2)\n",
    "#\n",
    "\n",
    "#\n",
    "# Field Q[t], t=\\sqrt(2)\n",
    "#\n",
    "K.<t> = QuadraticField(2);\n",
    "#\n",
    "#\n",
    "#\n",
    "e1 = (0,K(-1),K(1),0);\n",
    "e2 = (0,0,K(-1),K(1));\n",
    "e3 = (0,0,0,K(-1));\n",
    "e4 = (1,1+t,0,0);\n",
    "e5 = (1+t,2+t,2+t,1);\n",
    "e6 = (1+t,2+t,1+t,1+t);\n",
    "#\n",
    "#\n",
    "#\n",
    "L2 = map(lambda x: vector(x), [e1,e2,e3,e4,e5,e6]);\n",
    "#\n",
    "# Bilinear form associated with L \n",
    "#\n",
    "def bL(u, v):\n",
    "    return -(1+2*t)*u[0]*v[0] + u[1:]*v[1:];\n",
    "#\n",
    "# Quadratic form associated with L \n",
    "#\n",
    "def fL(v):\n",
    "    return bL(v, v);"
   ]
  },
  {
   "cell_type": "code",
   "execution_count": 11,
   "metadata": {
    "collapsed": false
   },
   "outputs": [
    {
     "name": "stdout",
     "output_type": "stream",
     "text": [
      "True\n"
     ]
    },
    {
     "data": {
      "text/html": [
       "<html><script type=\"math/tex; mode=display\">\\newcommand{\\Bold}[1]{\\mathbf{#1}}\\left(\\begin{array}{rrrrrr}\n",
       "1 & -\\frac{1}{2} & 0 & -\\frac{1}{4} \\, \\sqrt{2} {\\left(\\sqrt{2} + 2\\right)} & 0 & -\\frac{1}{2} \\, \\sqrt{2} \\\\\n",
       "-\\frac{1}{2} & 1 & -\\frac{1}{2} \\, \\sqrt{2} & 0 & -\\frac{1}{4} \\, \\sqrt{2} {\\left(\\sqrt{2} + 2\\right)} & 0 \\\\\n",
       "0 & -\\frac{1}{2} \\, \\sqrt{2} & 1 & 0 & -\\frac{1}{2} \\, \\sqrt{2} & -\\sqrt{2} - 1 \\\\\n",
       "-\\frac{1}{4} \\, \\sqrt{2} {\\left(\\sqrt{2} + 2\\right)} & 0 & 0 & 1 & -\\frac{1}{2} & -\\frac{1}{2} \\, \\sqrt{2} \\\\\n",
       "0 & -\\frac{1}{4} \\, \\sqrt{2} {\\left(\\sqrt{2} + 2\\right)} & -\\frac{1}{2} \\, \\sqrt{2} & -\\frac{1}{2} & 1 & 0 \\\\\n",
       "-\\frac{1}{2} \\, \\sqrt{2} & 0 & -\\sqrt{2} - 1 & -\\frac{1}{2} \\, \\sqrt{2} & 0 & 1\n",
       "\\end{array}\\right)</script></html>"
      ],
      "text/plain": [
       "[                         1                       -1/2                          0 -1/4*sqrt(2)*(sqrt(2) + 2)                          0               -1/2*sqrt(2)]\n",
       "[                      -1/2                          1               -1/2*sqrt(2)                          0 -1/4*sqrt(2)*(sqrt(2) + 2)                          0]\n",
       "[                         0               -1/2*sqrt(2)                          1                          0               -1/2*sqrt(2)               -sqrt(2) - 1]\n",
       "[-1/4*sqrt(2)*(sqrt(2) + 2)                          0                          0                          1                       -1/2               -1/2*sqrt(2)]\n",
       "[                         0 -1/4*sqrt(2)*(sqrt(2) + 2)               -1/2*sqrt(2)                       -1/2                          1                          0]\n",
       "[              -1/2*sqrt(2)                          0               -sqrt(2) - 1               -1/2*sqrt(2)                          0                          1]"
      ]
     },
     "execution_count": 11,
     "metadata": {
     },
     "output_type": "execute_result"
    },
    {
     "data": {
      "image/png": "[encoded data removed]",
      "text/plain": [
       "Graphics object consisting of 25 graphics primitives"
      ]
     },
     "execution_count": 11,
     "metadata": {
     },
     "output_type": "execute_result"
    }
   ],
   "source": [
    "print isCoxeter(L2);\n",
    "\n",
    "show(Gram_matrix(L2))\n",
    "\n",
    "Coxeter_diagram(L2).plot(edge_labels=True).show()"
   ]
  },
  {
   "cell_type": "code",
   "execution_count": 12,
   "metadata": {
    "collapsed": false
   },
   "outputs": [
    {
     "name": "stdout",
     "output_type": "stream",
     "text": [
      "6 3\n",
      "vertices labels: 1 2 3 4 5 6\n",
      "1 2 3\n",
      "1 4 1\n",
      "1 6 4\n",
      "2 3 4\n",
      "2 5 1\n",
      "3 5 4\n",
      "3 6 1\n",
      "4 5 3\n",
      "4 6 4\n"
     ]
    }
   ],
   "source": [
    "d2 = Coxeter_diagram(L2)\n",
    "print_CoxIter(d2, 3)"
   ]
  },
  {
   "cell_type": "code",
   "execution_count": 13,
   "metadata": {
    "collapsed": false
   },
   "outputs": [
   ],
   "source": [
    "#\n",
    "# Lattice L(5)\n",
    "#\n",
    "\n",
    "#\n",
    "# Field Q[t], t=\\sqrt(2)\n",
    "#\n",
    "K.<t> = QuadraticField(2);\n",
    "#\n",
    "#\n",
    "#\n",
    "e1 = (0,K(-1),K(1),0);\n",
    "e2 = (0,0,K(-1),K(1));\n",
    "e3 = (0,0,0,K(-1));\n",
    "e4 = (1,3+t,0,0);\n",
    "e5 = (1,1+t,1+t,1);\n",
    "#\n",
    "#\n",
    "#\n",
    "L5 = map(lambda x: vector(x), [e1,e2,e3,e4,e5]);\n",
    "#\n",
    "# Bilinear form associated with L \n",
    "#\n",
    "def bL(u, v):\n",
    "    return -(5+4*t)*u[0]*v[0] + u[1:]*v[1:];\n",
    "#\n",
    "# Quadratic form associated with L \n",
    "#\n",
    "def fL(v):\n",
    "    return bL(v, v);"
   ]
  },
  {
   "cell_type": "code",
   "execution_count": 14,
   "metadata": {
    "collapsed": false
   },
   "outputs": [
    {
     "name": "stdout",
     "output_type": "stream",
     "text": [
      "True\n"
     ]
    },
    {
     "data": {
      "text/html": [
       "<html><script type=\"math/tex; mode=display\">\\newcommand{\\Bold}[1]{\\mathbf{#1}}\\left(\\begin{array}{rrrrr}\n",
       "1 & -\\frac{1}{2} & 0 & -\\frac{1}{2} \\, \\sqrt{\\sqrt{2} + 3} & 0 \\\\\n",
       "-\\frac{1}{2} & 1 & -\\frac{1}{2} \\, \\sqrt{2} & 0 & -\\frac{1}{2} \\, \\sqrt{2} \\\\\n",
       "0 & -\\frac{1}{2} \\, \\sqrt{2} & 1 & 0 & -\\frac{1}{2} \\, \\sqrt{2} \\\\\n",
       "-\\frac{1}{2} \\, \\sqrt{\\sqrt{2} + 3} & 0 & 0 & 1 & 0 \\\\\n",
       "0 & -\\frac{1}{2} \\, \\sqrt{2} & -\\frac{1}{2} \\, \\sqrt{2} & 0 & 1\n",
       "\\end{array}\\right)</script></html>"
      ],
      "text/plain": [
       "[                     1                   -1/2                      0 -1/2*sqrt(sqrt(2) + 3)                      0]\n",
       "[                  -1/2                      1           -1/2*sqrt(2)                      0           -1/2*sqrt(2)]\n",
       "[                     0           -1/2*sqrt(2)                      1                      0           -1/2*sqrt(2)]\n",
       "[-1/2*sqrt(sqrt(2) + 3)                      0                      0                      1                      0]\n",
       "[                     0           -1/2*sqrt(2)           -1/2*sqrt(2)                      0                      1]"
      ]
     },
     "execution_count": 14,
     "metadata": {
     },
     "output_type": "execute_result"
    },
    {
     "data": {
      "image/png": "[encoded data removed]",
      "text/plain": [
       "Graphics object consisting of 16 graphics primitives"
      ]
     },
     "execution_count": 14,
     "metadata": {
     },
     "output_type": "execute_result"
    }
   ],
   "source": [
    "print isCoxeter(L5);\n",
    "\n",
    "show(Gram_matrix(L5))\n",
    "\n",
    "Coxeter_diagram(L5).plot(edge_labels=True).show()"
   ]
  },
  {
   "cell_type": "code",
   "execution_count": 15,
   "metadata": {
    "collapsed": false
   },
   "outputs": [
   ],
   "source": [
    "#\n",
    "# Lattice L(6)\n",
    "#\n",
    "\n",
    "#\n",
    "# Field Q[t], t=\\sqrt(2)\n",
    "#\n",
    "K.<t> = QuadraticField(2);\n",
    "#\n",
    "#\n",
    "#\n",
    "e1 = (0,K(-1),K(1),0);\n",
    "e2 = (0,0,K(-1),K(1));\n",
    "e3 = (0,0,0,K(-1));\n",
    "e4 = (1,2+t,2+t,1);\n",
    "e5 = (1,2+2*t,1,0);\n",
    "e6 = (1,2+t,1+t,1+t);\n",
    "e7 = (2+t,7+5*t,3+3*t,2+t);\n",
    "e8 = (1+2*t,8+5*t,4+3*t,3+2*t);\n",
    "e9 = (1+2*t,8+6*t,3+2*t,2+2*t);\n",
    "e10 =(2+3*t,13+9*t,7+5*t,2+t);\n",
    "e11 =(4+2*t,13+10*t,9+6*t,0);\n",
    "e12 =(4+4*t,19+14*t,9+6*t,8+6*t);\n",
    "e13 =(4+4*t,20+14*t,11+8*t,1);\n",
    "e14 =(4+2*t,14+10*t,6+4*t,5+4*t);\n",
    "e15 =(4+3*t,17+12*t,8+5*t,6+4*t);\n",
    "e16 =(4+3*t,17+12*t,9+7*t,1+t);\n",
    "e17 =(5+4*t,22+15*t,13+9*t,1+t);\n",
    "#\n",
    "#\n",
    "#\n",
    "L6 = map(lambda x: vector(x), [e1,e2,e3,e4,e5,e6,e7,e8,e9,e10,e11,e12,e13,e14,e15,e16,e17]);\n",
    "#\n",
    "# Bilinear form associated with L \n",
    "#\n",
    "def bL(u, v):\n",
    "    return -(11+8*t)*u[0]*v[0] + u[1:]*v[1:];\n",
    "#\n",
    "# Quadratic form associated with L \n",
    "#\n",
    "def fL(v):\n",
    "    return bL(v, v);"
   ]
  },
  {
   "cell_type": "code",
   "execution_count": 16,
   "metadata": {
    "collapsed": false
   },
   "outputs": [
    {
     "name": "stdout",
     "output_type": "stream",
     "text": [
      "True\n"
     ]
    },
    {
     "data": {
      "text/html": [
       "<html><script type=\"math/tex; mode=display\">\\newcommand{\\Bold}[1]{\\mathbf{#1}}\\left(\\begin{array}{rrrrrrrrrrrrrrrrr}\n",
       "1 & -\\frac{1}{2} & 0 & 0 & -\\sqrt{2} - \\frac{1}{2} & -\\frac{1}{2} \\, \\sqrt{2} & -\\sqrt{2} - 2 & -\\sqrt{2} - 2 & -2 \\, \\sqrt{2} - \\frac{5}{2} & -2 \\, \\sqrt{2} - 3 & -2 \\, \\sqrt{2} - 2 & -4 \\, \\sqrt{2} - 5 & -3 \\, \\sqrt{2} - \\frac{9}{2} & -4 \\, \\sqrt{2} - 6 & -\\frac{1}{2} \\, \\sqrt{2} {\\left(7 \\, \\sqrt{2} + 9\\right)} & -4 \\, \\sqrt{2} - 5 & -\\frac{3}{2} \\, \\sqrt{2} {\\left(2 \\, \\sqrt{2} + 3\\right)} \\\\\n",
       "-\\frac{1}{2} & 1 & -\\frac{1}{2} \\, \\sqrt{2} & -\\frac{1}{4} \\, \\sqrt{2} {\\left(\\sqrt{2} + 2\\right)} & -\\frac{1}{2} & 0 & -\\sqrt{2} - \\frac{1}{2} & -\\frac{1}{4} \\, \\sqrt{2} {\\left(\\sqrt{2} + 2\\right)} & -\\frac{1}{2} & -2 \\, \\sqrt{2} - \\frac{5}{2} & -3 \\, \\sqrt{2} - \\frac{9}{2} & -\\frac{1}{2} & -4 \\, \\sqrt{2} - 5 & -\\frac{1}{2} \\, \\sqrt{2} & -\\sqrt{2} - 1 & -4 \\, \\sqrt{2} - 6 & -6 \\, \\sqrt{2} - 8 \\\\\n",
       "0 & -\\frac{1}{2} \\, \\sqrt{2} & 1 & -\\frac{1}{2} \\, \\sqrt{2} & 0 & -\\sqrt{2} - 1 & -\\sqrt{2} - 1 & -\\frac{1}{2} \\, \\sqrt{2} {\\left(2 \\, \\sqrt{2} + 3\\right)} & -\\sqrt{2} - 2 & -\\sqrt{2} - 1 & 0 & -4 \\, \\sqrt{2} - 6 & -\\frac{1}{2} \\, \\sqrt{2} & -4 \\, \\sqrt{2} - 5 & -4 \\, \\sqrt{2} - 6 & -\\sqrt{2} - 1 & -\\sqrt{2} - 1 \\\\\n",
       "0 & -\\frac{1}{4} \\, \\sqrt{2} {\\left(\\sqrt{2} + 2\\right)} & -\\frac{1}{2} \\, \\sqrt{2} & 1 & -\\frac{1}{4} \\, \\sqrt{2} {\\left(\\sqrt{2} + 2\\right)} & 0 & 0 & 0 & -\\frac{1}{4} \\, \\sqrt{2} {\\left(3 \\, \\sqrt{2} + 2\\right)} & 0 & 0 & -\\sqrt{2} - 2 & -\\frac{1}{4} \\, \\sqrt{2} {\\left(\\sqrt{2} + 2\\right)} & -\\frac{1}{2} \\, \\sqrt{2} {\\left(2 \\, \\sqrt{2} + 3\\right)} & -\\sqrt{2} - 2 & -\\frac{1}{2} \\, \\sqrt{2} & 0 \\\\\n",
       "-\\sqrt{2} - \\frac{1}{2} & -\\frac{1}{2} & 0 & -\\frac{1}{4} \\, \\sqrt{2} {\\left(\\sqrt{2} + 2\\right)} & 1 & -\\sqrt{2} - 1 & -\\frac{1}{2} & -\\frac{1}{4} \\, \\sqrt{2} {\\left(3 \\, \\sqrt{2} + 2\\right)} & 0 & -\\frac{1}{2} & -\\sqrt{2} - \\frac{1}{2} & -2 \\, \\sqrt{2} - \\frac{5}{2} & -\\frac{1}{2} & -\\sqrt{2} - 2 & -\\sqrt{2} - 2 & -\\frac{1}{2} \\, \\sqrt{2} & -\\sqrt{2} - 1 \\\\\n",
       "-\\frac{1}{2} \\, \\sqrt{2} & 0 & -\\sqrt{2} - 1 & 0 & -\\sqrt{2} - 1 & 1 & -\\frac{1}{2} \\, \\sqrt{2} {\\left(\\sqrt{2} + 1\\right)} & 0 & -\\sqrt{2} - 1 & -\\frac{1}{2} \\, \\sqrt{2} {\\left(3 \\, \\sqrt{2} + 5\\right)} & -\\frac{3}{2} \\, \\sqrt{2} {\\left(2 \\, \\sqrt{2} + 3\\right)} & -\\frac{1}{2} \\, \\sqrt{2} & -6 \\, \\sqrt{2} - 8 & -\\sqrt{2} - 1 & -\\sqrt{2} - 2 & -6 \\, \\sqrt{2} - 8 & -8 \\, \\sqrt{2} - 11 \\\\\n",
       "-\\sqrt{2} - 2 & -\\sqrt{2} - \\frac{1}{2} & -\\sqrt{2} - 1 & 0 & -\\frac{1}{2} & -\\frac{1}{2} \\, \\sqrt{2} {\\left(\\sqrt{2} + 1\\right)} & 1 & 0 & -\\frac{1}{2} & 0 & -2 \\, \\sqrt{2} - 3 & -\\sqrt{2} - 2 & -2 \\, \\sqrt{2} - \\frac{5}{2} & -\\sqrt{2} - 1 & -\\frac{1}{2} \\, \\sqrt{2} & -\\sqrt{2} - 2 & -\\frac{1}{2} \\, \\sqrt{2} {\\left(3 \\, \\sqrt{2} + 5\\right)} \\\\\n",
       "-\\sqrt{2} - 2 & -\\frac{1}{4} \\, \\sqrt{2} {\\left(\\sqrt{2} + 2\\right)} & -\\frac{1}{2} \\, \\sqrt{2} {\\left(2 \\, \\sqrt{2} + 3\\right)} & 0 & -\\frac{1}{4} \\, \\sqrt{2} {\\left(3 \\, \\sqrt{2} + 2\\right)} & 0 & 0 & 1 & -\\frac{1}{4} \\, \\sqrt{2} {\\left(\\sqrt{2} + 2\\right)} & -2 \\, \\sqrt{2} - 2 & -5 \\, \\sqrt{2} - 8 & 0 & -\\frac{1}{4} \\, \\sqrt{2} {\\left(17 \\, \\sqrt{2} + 26\\right)} & -\\frac{1}{2} \\, \\sqrt{2} & 0 & -\\frac{1}{2} \\, \\sqrt{2} {\\left(8 \\, \\sqrt{2} + 11\\right)} & -8 \\, \\sqrt{2} - 12 \\\\\n",
       "-2 \\, \\sqrt{2} - \\frac{5}{2} & -\\frac{1}{2} & -\\sqrt{2} - 2 & -\\frac{1}{4} \\, \\sqrt{2} {\\left(3 \\, \\sqrt{2} + 2\\right)} & 0 & -\\sqrt{2} - 1 & -\\frac{1}{2} & -\\frac{1}{4} \\, \\sqrt{2} {\\left(\\sqrt{2} + 2\\right)} & 1 & -2 \\, \\sqrt{2} - \\frac{5}{2} & -6 \\, \\sqrt{2} - \\frac{17}{2} & -\\sqrt{2} - \\frac{1}{2} & -6 \\, \\sqrt{2} - \\frac{17}{2} & 0 & 0 & -\\frac{1}{2} \\, \\sqrt{2} {\\left(8 \\, \\sqrt{2} + 11\\right)} & -9 \\, \\sqrt{2} - 13 \\\\\n",
       "-2 \\, \\sqrt{2} - 3 & -2 \\, \\sqrt{2} - \\frac{5}{2} & -\\sqrt{2} - 1 & 0 & -\\frac{1}{2} & -\\frac{1}{2} \\, \\sqrt{2} {\\left(3 \\, \\sqrt{2} + 5\\right)} & 0 & -2 \\, \\sqrt{2} - 2 & -2 \\, \\sqrt{2} - \\frac{5}{2} & 1 & -\\sqrt{2} - 2 & -8 \\, \\sqrt{2} - 11 & -\\sqrt{2} - \\frac{1}{2} & -7 \\, \\sqrt{2} - 9 & -\\frac{1}{2} \\, \\sqrt{2} {\\left(8 \\, \\sqrt{2} + 11\\right)} & 0 & -\\frac{1}{2} \\, \\sqrt{2} {\\left(\\sqrt{2} + 1\\right)} \\\\\n",
       "-2 \\, \\sqrt{2} - 2 & -3 \\, \\sqrt{2} - \\frac{9}{2} & 0 & 0 & -\\sqrt{2} - \\frac{1}{2} & -\\frac{3}{2} \\, \\sqrt{2} {\\left(2 \\, \\sqrt{2} + 3\\right)} & -2 \\, \\sqrt{2} - 3 & -5 \\, \\sqrt{2} - 8 & -6 \\, \\sqrt{2} - \\frac{17}{2} & -\\sqrt{2} - 2 & 1 & -20 \\, \\sqrt{2} - 28 & -\\frac{1}{2} & -18 \\, \\sqrt{2} - 26 & -\\frac{5}{2} \\, \\sqrt{2} {\\left(5 \\, \\sqrt{2} + 7\\right)} & -\\sqrt{2} - 1 & -\\frac{1}{2} \\, \\sqrt{2} \\\\\n",
       "-4 \\, \\sqrt{2} - 5 & -\\frac{1}{2} & -4 \\, \\sqrt{2} - 6 & -\\sqrt{2} - 2 & -2 \\, \\sqrt{2} - \\frac{5}{2} & -\\frac{1}{2} \\, \\sqrt{2} & -\\sqrt{2} - 2 & 0 & -\\sqrt{2} - \\frac{1}{2} & -8 \\, \\sqrt{2} - 11 & -20 \\, \\sqrt{2} - 28 & 1 & -23 \\, \\sqrt{2} - \\frac{65}{2} & 0 & -\\frac{1}{2} \\, \\sqrt{2} {\\left(\\sqrt{2} + 1\\right)} & -22 \\, \\sqrt{2} - 31 & -\\frac{1}{2} \\, \\sqrt{2} {\\left(46 \\, \\sqrt{2} + 65\\right)} \\\\\n",
       "-3 \\, \\sqrt{2} - \\frac{9}{2} & -4 \\, \\sqrt{2} - 5 & -\\frac{1}{2} \\, \\sqrt{2} & -\\frac{1}{4} \\, \\sqrt{2} {\\left(\\sqrt{2} + 2\\right)} & -\\frac{1}{2} & -6 \\, \\sqrt{2} - 8 & -2 \\, \\sqrt{2} - \\frac{5}{2} & -\\frac{1}{4} \\, \\sqrt{2} {\\left(17 \\, \\sqrt{2} + 26\\right)} & -6 \\, \\sqrt{2} - \\frac{17}{2} & -\\sqrt{2} - \\frac{1}{2} & -\\frac{1}{2} & -23 \\, \\sqrt{2} - \\frac{65}{2} & 1 & -\\frac{1}{2} \\, \\sqrt{2} {\\left(28 \\, \\sqrt{2} + 41\\right)} & -19 \\, \\sqrt{2} - 27 & 0 & 0 \\\\\n",
       "-4 \\, \\sqrt{2} - 6 & -\\frac{1}{2} \\, \\sqrt{2} & -4 \\, \\sqrt{2} - 5 & -\\frac{1}{2} \\, \\sqrt{2} {\\left(2 \\, \\sqrt{2} + 3\\right)} & -\\sqrt{2} - 2 & -\\sqrt{2} - 1 & -\\sqrt{2} - 1 & -\\frac{1}{2} \\, \\sqrt{2} & 0 & -7 \\, \\sqrt{2} - 9 & -18 \\, \\sqrt{2} - 26 & 0 & -\\frac{1}{2} \\, \\sqrt{2} {\\left(28 \\, \\sqrt{2} + 41\\right)} & 1 & 0 & -19 \\, \\sqrt{2} - 27 & -29 \\, \\sqrt{2} - 41 \\\\\n",
       "-\\frac{1}{2} \\, \\sqrt{2} {\\left(7 \\, \\sqrt{2} + 9\\right)} & -\\sqrt{2} - 1 & -4 \\, \\sqrt{2} - 6 & -\\sqrt{2} - 2 & -\\sqrt{2} - 2 & -\\sqrt{2} - 2 & -\\frac{1}{2} \\, \\sqrt{2} & 0 & 0 & -\\frac{1}{2} \\, \\sqrt{2} {\\left(8 \\, \\sqrt{2} + 11\\right)} & -\\frac{5}{2} \\, \\sqrt{2} {\\left(5 \\, \\sqrt{2} + 7\\right)} & -\\frac{1}{2} \\, \\sqrt{2} {\\left(\\sqrt{2} + 1\\right)} & -19 \\, \\sqrt{2} - 27 & 0 & 1 & -17 \\, \\sqrt{2} - 25 & -27 \\, \\sqrt{2} - 38 \\\\\n",
       "-4 \\, \\sqrt{2} - 5 & -4 \\, \\sqrt{2} - 6 & -\\sqrt{2} - 1 & -\\frac{1}{2} \\, \\sqrt{2} & -\\frac{1}{2} \\, \\sqrt{2} & -6 \\, \\sqrt{2} - 8 & -\\sqrt{2} - 2 & -\\frac{1}{2} \\, \\sqrt{2} {\\left(8 \\, \\sqrt{2} + 11\\right)} & -\\frac{1}{2} \\, \\sqrt{2} {\\left(8 \\, \\sqrt{2} + 11\\right)} & 0 & -\\sqrt{2} - 1 & -22 \\, \\sqrt{2} - 31 & 0 & -19 \\, \\sqrt{2} - 27 & -17 \\, \\sqrt{2} - 25 & 1 & 0 \\\\\n",
       "-\\frac{3}{2} \\, \\sqrt{2} {\\left(2 \\, \\sqrt{2} + 3\\right)} & -6 \\, \\sqrt{2} - 8 & -\\sqrt{2} - 1 & 0 & -\\sqrt{2} - 1 & -8 \\, \\sqrt{2} - 11 & -\\frac{1}{2} \\, \\sqrt{2} {\\left(3 \\, \\sqrt{2} + 5\\right)} & -8 \\, \\sqrt{2} - 12 & -9 \\, \\sqrt{2} - 13 & -\\frac{1}{2} \\, \\sqrt{2} {\\left(\\sqrt{2} + 1\\right)} & -\\frac{1}{2} \\, \\sqrt{2} & -\\frac{1}{2} \\, \\sqrt{2} {\\left(46 \\, \\sqrt{2} + 65\\right)} & 0 & -29 \\, \\sqrt{2} - 41 & -27 \\, \\sqrt{2} - 38 & 0 & 1\n",
       "\\end{array}\\right)</script></html>"
      ],
      "text/plain": [
       "[                             1                           -1/2                              0                              0                 -sqrt(2) - 1/2                   -1/2*sqrt(2)                   -sqrt(2) - 2                   -sqrt(2) - 2               -2*sqrt(2) - 5/2                 -2*sqrt(2) - 3                 -2*sqrt(2) - 2                 -4*sqrt(2) - 5               -3*sqrt(2) - 9/2                 -4*sqrt(2) - 6   -1/2*sqrt(2)*(7*sqrt(2) + 9)                 -4*sqrt(2) - 5   -3/2*sqrt(2)*(2*sqrt(2) + 3)]\n",
       "[                          -1/2                              1                   -1/2*sqrt(2)     -1/4*sqrt(2)*(sqrt(2) + 2)                           -1/2                              0                 -sqrt(2) - 1/2     -1/4*sqrt(2)*(sqrt(2) + 2)                           -1/2               -2*sqrt(2) - 5/2               -3*sqrt(2) - 9/2                           -1/2                 -4*sqrt(2) - 5                   -1/2*sqrt(2)                   -sqrt(2) - 1                 -4*sqrt(2) - 6                 -6*sqrt(2) - 8]\n",
       "[                             0                   -1/2*sqrt(2)                              1                   -1/2*sqrt(2)                              0                   -sqrt(2) - 1                   -sqrt(2) - 1   -1/2*sqrt(2)*(2*sqrt(2) + 3)                   -sqrt(2) - 2                   -sqrt(2) - 1                              0                 -4*sqrt(2) - 6                   -1/2*sqrt(2)                 -4*sqrt(2) - 5                 -4*sqrt(2) - 6                   -sqrt(2) - 1                   -sqrt(2) - 1]\n",
       "[                             0     -1/4*sqrt(2)*(sqrt(2) + 2)                   -1/2*sqrt(2)                              1     -1/4*sqrt(2)*(sqrt(2) + 2)                              0                              0                              0   -1/4*sqrt(2)*(3*sqrt(2) + 2)                              0                              0                   -sqrt(2) - 2     -1/4*sqrt(2)*(sqrt(2) + 2)   -1/2*sqrt(2)*(2*sqrt(2) + 3)                   -sqrt(2) - 2                   -1/2*sqrt(2)                              0]\n",
       "[                -sqrt(2) - 1/2                           -1/2                              0     -1/4*sqrt(2)*(sqrt(2) + 2)                              1                   -sqrt(2) - 1                           -1/2   -1/4*sqrt(2)*(3*sqrt(2) + 2)                              0                           -1/2                 -sqrt(2) - 1/2               -2*sqrt(2) - 5/2                           -1/2                   -sqrt(2) - 2                   -sqrt(2) - 2                   -1/2*sqrt(2)                   -sqrt(2) - 1]\n",
       "[                  -1/2*sqrt(2)                              0                   -sqrt(2) - 1                              0                   -sqrt(2) - 1                              1     -1/2*sqrt(2)*(sqrt(2) + 1)                              0                   -sqrt(2) - 1   -1/2*sqrt(2)*(3*sqrt(2) + 5)   -3/2*sqrt(2)*(2*sqrt(2) + 3)                   -1/2*sqrt(2)                 -6*sqrt(2) - 8                   -sqrt(2) - 1                   -sqrt(2) - 2                 -6*sqrt(2) - 8                -8*sqrt(2) - 11]\n",
       "[                  -sqrt(2) - 2                 -sqrt(2) - 1/2                   -sqrt(2) - 1                              0                           -1/2     -1/2*sqrt(2)*(sqrt(2) + 1)                              1                              0                           -1/2                              0                 -2*sqrt(2) - 3                   -sqrt(2) - 2               -2*sqrt(2) - 5/2                   -sqrt(2) - 1                   -1/2*sqrt(2)                   -sqrt(2) - 2   -1/2*sqrt(2)*(3*sqrt(2) + 5)]\n",
       "[                  -sqrt(2) - 2     -1/4*sqrt(2)*(sqrt(2) + 2)   -1/2*sqrt(2)*(2*sqrt(2) + 3)                              0   -1/4*sqrt(2)*(3*sqrt(2) + 2)                              0                              0                              1     -1/4*sqrt(2)*(sqrt(2) + 2)                 -2*sqrt(2) - 2                 -5*sqrt(2) - 8                              0 -1/4*sqrt(2)*(17*sqrt(2) + 26)                   -1/2*sqrt(2)                              0  -1/2*sqrt(2)*(8*sqrt(2) + 11)                -8*sqrt(2) - 12]\n",
       "[              -2*sqrt(2) - 5/2                           -1/2                   -sqrt(2) - 2   -1/4*sqrt(2)*(3*sqrt(2) + 2)                              0                   -sqrt(2) - 1                           -1/2     -1/4*sqrt(2)*(sqrt(2) + 2)                              1               -2*sqrt(2) - 5/2              -6*sqrt(2) - 17/2                 -sqrt(2) - 1/2              -6*sqrt(2) - 17/2                              0                              0  -1/2*sqrt(2)*(8*sqrt(2) + 11)                -9*sqrt(2) - 13]\n",
       "[                -2*sqrt(2) - 3               -2*sqrt(2) - 5/2                   -sqrt(2) - 1                              0                           -1/2   -1/2*sqrt(2)*(3*sqrt(2) + 5)                              0                 -2*sqrt(2) - 2               -2*sqrt(2) - 5/2                              1                   -sqrt(2) - 2                -8*sqrt(2) - 11                 -sqrt(2) - 1/2                 -7*sqrt(2) - 9  -1/2*sqrt(2)*(8*sqrt(2) + 11)                              0     -1/2*sqrt(2)*(sqrt(2) + 1)]\n",
       "[                -2*sqrt(2) - 2               -3*sqrt(2) - 9/2                              0                              0                 -sqrt(2) - 1/2   -3/2*sqrt(2)*(2*sqrt(2) + 3)                 -2*sqrt(2) - 3                 -5*sqrt(2) - 8              -6*sqrt(2) - 17/2                   -sqrt(2) - 2                              1               -20*sqrt(2) - 28                           -1/2               -18*sqrt(2) - 26   -5/2*sqrt(2)*(5*sqrt(2) + 7)                   -sqrt(2) - 1                   -1/2*sqrt(2)]\n",
       "[                -4*sqrt(2) - 5                           -1/2                 -4*sqrt(2) - 6                   -sqrt(2) - 2               -2*sqrt(2) - 5/2                   -1/2*sqrt(2)                   -sqrt(2) - 2                              0                 -sqrt(2) - 1/2                -8*sqrt(2) - 11               -20*sqrt(2) - 28                              1             -23*sqrt(2) - 65/2                              0     -1/2*sqrt(2)*(sqrt(2) + 1)               -22*sqrt(2) - 31 -1/2*sqrt(2)*(46*sqrt(2) + 65)]\n",
       "[              -3*sqrt(2) - 9/2                 -4*sqrt(2) - 5                   -1/2*sqrt(2)     -1/4*sqrt(2)*(sqrt(2) + 2)                           -1/2                 -6*sqrt(2) - 8               -2*sqrt(2) - 5/2 -1/4*sqrt(2)*(17*sqrt(2) + 26)              -6*sqrt(2) - 17/2                 -sqrt(2) - 1/2                           -1/2             -23*sqrt(2) - 65/2                              1 -1/2*sqrt(2)*(28*sqrt(2) + 41)               -19*sqrt(2) - 27                              0                              0]\n",
       "[                -4*sqrt(2) - 6                   -1/2*sqrt(2)                 -4*sqrt(2) - 5   -1/2*sqrt(2)*(2*sqrt(2) + 3)                   -sqrt(2) - 2                   -sqrt(2) - 1                   -sqrt(2) - 1                   -1/2*sqrt(2)                              0                 -7*sqrt(2) - 9               -18*sqrt(2) - 26                              0 -1/2*sqrt(2)*(28*sqrt(2) + 41)                              1                              0               -19*sqrt(2) - 27               -29*sqrt(2) - 41]\n",
       "[  -1/2*sqrt(2)*(7*sqrt(2) + 9)                   -sqrt(2) - 1                 -4*sqrt(2) - 6                   -sqrt(2) - 2                   -sqrt(2) - 2                   -sqrt(2) - 2                   -1/2*sqrt(2)                              0                              0  -1/2*sqrt(2)*(8*sqrt(2) + 11)   -5/2*sqrt(2)*(5*sqrt(2) + 7)     -1/2*sqrt(2)*(sqrt(2) + 1)               -19*sqrt(2) - 27                              0                              1               -17*sqrt(2) - 25               -27*sqrt(2) - 38]\n",
       "[                -4*sqrt(2) - 5                 -4*sqrt(2) - 6                   -sqrt(2) - 1                   -1/2*sqrt(2)                   -1/2*sqrt(2)                 -6*sqrt(2) - 8                   -sqrt(2) - 2  -1/2*sqrt(2)*(8*sqrt(2) + 11)  -1/2*sqrt(2)*(8*sqrt(2) + 11)                              0                   -sqrt(2) - 1               -22*sqrt(2) - 31                              0               -19*sqrt(2) - 27               -17*sqrt(2) - 25                              1                              0]\n",
       "[  -3/2*sqrt(2)*(2*sqrt(2) + 3)                 -6*sqrt(2) - 8                   -sqrt(2) - 1                              0                   -sqrt(2) - 1                -8*sqrt(2) - 11   -1/2*sqrt(2)*(3*sqrt(2) + 5)                -8*sqrt(2) - 12                -9*sqrt(2) - 13     -1/2*sqrt(2)*(sqrt(2) + 1)                   -1/2*sqrt(2) -1/2*sqrt(2)*(46*sqrt(2) + 65)                              0               -29*sqrt(2) - 41               -27*sqrt(2) - 38                              0                              1]"
      ]
     },
     "execution_count": 16,
     "metadata": {
     },
     "output_type": "execute_result"
    },
    {
     "data": {
      "image/png": "[encoded data removed]",
      "text/plain": [
       "Graphics object consisting of 240 graphics primitives"
      ]
     },
     "execution_count": 16,
     "metadata": {
     },
     "output_type": "execute_result"
    }
   ],
   "source": [
    "print isCoxeter(L6);\n",
    "\n",
    "show(Gram_matrix(L6))\n",
    "\n",
    "Coxeter_diagram(L6).plot(edge_labels=True).show()"
   ]
  },
  {
   "cell_type": "code",
   "execution_count": 17,
   "metadata": {
    "collapsed": false
   },
   "outputs": [
   ],
   "source": [
    "#\n",
    "# Lattice L(7)\n",
    "#\n",
    "\n",
    "#\n",
    "# Field Q[t], t=\\sqrt(2)\n",
    "#\n",
    "K.<t> = QuadraticField(2);\n",
    "#\n",
    "#\n",
    "#\n",
    "e1 = (0,K(-1),K(1),0);\n",
    "e2 = (0,0,K(-1),K(1));\n",
    "e3 = (0,0,0,K(-1));\n",
    "e4 = (1+t,1+t,1+t,0);\n",
    "e5 = (1+t,2+t,0,0);\n",
    "e6 = (2+t,1+t,1+t,1+t);\n",
    "#\n",
    "#\n",
    "#\n",
    "L7 = map(lambda x: vector(x), [e1,e2,e3,e4,e5,e6]);\n",
    "#\n",
    "# Bilinear form associated with L \n",
    "#\n",
    "def bL(u, v):\n",
    "    return -t*u[0]*v[0] + u[1:]*v[1:];\n",
    "#\n",
    "# Quadratic form associated with L \n",
    "#\n",
    "def fL(v):\n",
    "    return bL(v, v);"
   ]
  },
  {
   "cell_type": "code",
   "execution_count": 18,
   "metadata": {
    "collapsed": false
   },
   "outputs": [
    {
     "name": "stdout",
     "output_type": "stream",
     "text": [
      "True\n"
     ]
    },
    {
     "data": {
      "text/html": [
       "<html><script type=\"math/tex; mode=display\">\\newcommand{\\Bold}[1]{\\mathbf{#1}}\\left(\\begin{array}{rrrrrr}\n",
       "1 & -\\frac{1}{2} & 0 & 0 & -\\frac{1}{2} \\, \\sqrt{2} \\sqrt{\\sqrt{2} + 2} & 0 \\\\\n",
       "-\\frac{1}{2} & 1 & -\\frac{1}{2} \\, \\sqrt{2} & -\\frac{\\sqrt{2} {\\left(\\sqrt{2} + 1\\right)}}{2 \\, \\sqrt{\\sqrt{2} + 2}} & 0 & 0 \\\\\n",
       "0 & -\\frac{1}{2} \\, \\sqrt{2} & 1 & 0 & 0 & -\\sqrt{2} - 1 \\\\\n",
       "0 & -\\frac{\\sqrt{2} {\\left(\\sqrt{2} + 1\\right)}}{2 \\, \\sqrt{\\sqrt{2} + 2}} & 0 & 1 & 0 & 0 \\\\\n",
       "-\\frac{1}{2} \\, \\sqrt{2} \\sqrt{\\sqrt{2} + 2} & 0 & 0 & 0 & 1 & -\\sqrt{\\sqrt{2} + 2} \\\\\n",
       "0 & 0 & -\\sqrt{2} - 1 & 0 & -\\sqrt{\\sqrt{2} + 2} & 1\n",
       "\\end{array}\\right)</script></html>"
      ],
      "text/plain": [
       "[                                           1                                         -1/2                                            0                                            0               -1/2*sqrt(2)*sqrt(sqrt(2) + 2)                                            0]\n",
       "[                                        -1/2                                            1                                 -1/2*sqrt(2) -1/2*sqrt(2)*(sqrt(2) + 1)/sqrt(sqrt(2) + 2)                                            0                                            0]\n",
       "[                                           0                                 -1/2*sqrt(2)                                            1                                            0                                            0                                 -sqrt(2) - 1]\n",
       "[                                           0 -1/2*sqrt(2)*(sqrt(2) + 1)/sqrt(sqrt(2) + 2)                                            0                                            1                                            0                                            0]\n",
       "[              -1/2*sqrt(2)*sqrt(sqrt(2) + 2)                                            0                                            0                                            0                                            1                           -sqrt(sqrt(2) + 2)]\n",
       "[                                           0                                            0                                 -sqrt(2) - 1                                            0                           -sqrt(sqrt(2) + 2)                                            1]"
      ]
     },
     "execution_count": 18,
     "metadata": {
     },
     "output_type": "execute_result"
    },
    {
     "data": {
      "image/png": "[encoded data removed]",
      "text/plain": [
       "Graphics object consisting of 19 graphics primitives"
      ]
     },
     "execution_count": 18,
     "metadata": {
     },
     "output_type": "execute_result"
    }
   ],
   "source": [
    "print isCoxeter(L7);\n",
    "\n",
    "show(Gram_matrix(L7))\n",
    "\n",
    "Coxeter_diagram(L7).plot(edge_labels=True).show()"
   ]
  },
  {
   "cell_type": "code",
   "execution_count": 19,
   "metadata": {
    "collapsed": false
   },
   "outputs": [
   ],
   "source": [
    "#\n",
    "# Lattice L(8)\n",
    "#\n",
    "\n",
    "#\n",
    "# Field Q[t], t=\\sqrt(2)\n",
    "#\n",
    "K.<t> = QuadraticField(2);\n",
    "#\n",
    "#\n",
    "#\n",
    "e1 = (0,0,0,-t);\n",
    "e2 = (0,0,-t,0);\n",
    "e3 = (0,-t/2,1+t/2,0);\n",
    "e4 = (1+t,2+t,0,0);\n",
    "e5 = (1+t,0,0,2+t);\n",
    "e6 = (2+t,2+t,0,2+t);\n",
    "#\n",
    "#\n",
    "#\n",
    "L8 = map(lambda x: vector(x), [e1,e2,e3,e4,e5,e6]);\n",
    "#\n",
    "# Bilinear form associated with L \n",
    "#\n",
    "def bL(u, v):\n",
    "    return (-t)*u[0]*v[0] + u[1:]*v[1:];\n",
    "#\n",
    "# Quadratic form associated with L \n",
    "#\n",
    "def fL(v):\n",
    "    return bL(v, v);"
   ]
  },
  {
   "cell_type": "code",
   "execution_count": 20,
   "metadata": {
    "collapsed": false
   },
   "outputs": [
    {
     "name": "stdout",
     "output_type": "stream",
     "text": [
      "True\n"
     ]
    },
    {
     "data": {
      "text/html": [
       "<html><script type=\"math/tex; mode=display\">\\newcommand{\\Bold}[1]{\\mathbf{#1}}\\left(\\begin{array}{rrrrrr}\n",
       "1 & 0 & 0 & 0 & -\\frac{\\sqrt{2} {\\left(\\sqrt{2} + 1\\right)}}{\\sqrt{\\sqrt{2} + 2}} & -\\frac{\\sqrt{2} + 1}{\\sqrt{\\sqrt{2} + 2}} \\\\\n",
       "0 & 1 & -\\frac{\\sqrt{2} {\\left(\\sqrt{2} + 1\\right)}}{2 \\, \\sqrt{\\sqrt{2} + 2}} & 0 & 0 & 0 \\\\\n",
       "0 & -\\frac{\\sqrt{2} {\\left(\\sqrt{2} + 1\\right)}}{2 \\, \\sqrt{\\sqrt{2} + 2}} & 1 & -\\frac{1}{2} \\, \\sqrt{2} & 0 & -\\frac{1}{2} \\\\\n",
       "0 & 0 & -\\frac{1}{2} \\, \\sqrt{2} & 1 & -\\sqrt{2} - 1 & 0 \\\\\n",
       "-\\frac{\\sqrt{2} {\\left(\\sqrt{2} + 1\\right)}}{\\sqrt{\\sqrt{2} + 2}} & 0 & 0 & -\\sqrt{2} - 1 & 1 & 0 \\\\\n",
       "-\\frac{\\sqrt{2} + 1}{\\sqrt{\\sqrt{2} + 2}} & 0 & -\\frac{1}{2} & 0 & 0 & 1\n",
       "\\end{array}\\right)</script></html>"
      ],
      "text/plain": [
       "[                                           1                                            0                                            0                                            0     -sqrt(2)*(sqrt(2) + 1)/sqrt(sqrt(2) + 2)             -(sqrt(2) + 1)/sqrt(sqrt(2) + 2)]\n",
       "[                                           0                                            1 -1/2*sqrt(2)*(sqrt(2) + 1)/sqrt(sqrt(2) + 2)                                            0                                            0                                            0]\n",
       "[                                           0 -1/2*sqrt(2)*(sqrt(2) + 1)/sqrt(sqrt(2) + 2)                                            1                                 -1/2*sqrt(2)                                            0                                         -1/2]\n",
       "[                                           0                                            0                                 -1/2*sqrt(2)                                            1                                 -sqrt(2) - 1                                            0]\n",
       "[    -sqrt(2)*(sqrt(2) + 1)/sqrt(sqrt(2) + 2)                                            0                                            0                                 -sqrt(2) - 1                                            1                                            0]\n",
       "[            -(sqrt(2) + 1)/sqrt(sqrt(2) + 2)                                            0                                         -1/2                                            0                                            0                                            1]"
      ]
     },
     "execution_count": 20,
     "metadata": {
     },
     "output_type": "execute_result"
    },
    {
     "data": {
      "image/png": "[encoded data removed]",
      "text/plain": [
       "Graphics object consisting of 19 graphics primitives"
      ]
     },
     "execution_count": 20,
     "metadata": {
     },
     "output_type": "execute_result"
    }
   ],
   "source": [
    "print isCoxeter(L8);\n",
    "\n",
    "show(Gram_matrix(L8))\n",
    "\n",
    "Coxeter_diagram(L8).plot(edge_labels=True).show()"
   ]
  },
  {
   "cell_type": "code",
   "execution_count": 22,
   "metadata": {
    "collapsed": false
   },
   "outputs": [
    {
     "name": "stdout",
     "output_type": "stream",
     "text": [
      "6 3\n",
      "vertices labels: 1 2 3 4 5 6\n",
      "1 5 1\n",
      "1 6 1\n",
      "2 3 8\n",
      "3 4 4\n",
      "3 6 3\n",
      "4 5 1\n"
     ]
    }
   ],
   "source": [
    "d8 = Coxeter_diagram(L8)\n",
    "print_CoxIter(d8, 3)"
   ]
  },
  {
   "cell_type": "code",
   "execution_count": 23,
   "metadata": {
    "collapsed": false
   },
   "outputs": [
   ],
   "source": [
    "#\n",
    "# Lattice L(12)\n",
    "#\n",
    "\n",
    "#\n",
    "# Field Q[t], t=\\sqrt(2)\n",
    "#\n",
    "K.<t> = QuadraticField(2);\n",
    "#\n",
    "#\n",
    "#\n",
    "e1 = (0,K(-1),K(1),0);\n",
    "e2 = (0,0,K(-1),K(1));\n",
    "e3 = (0,0,0,K(-1));\n",
    "e4 = (2-t,1+t,1,0);\n",
    "e5 = (1,1+t,1+t,1+t);\n",
    "#\n",
    "#\n",
    "#\n",
    "L12 = map(lambda x: vector(x), [e1,e2,e3,e4,e5]);\n",
    "#\n",
    "# Bilinear form associated with L \n",
    "#\n",
    "def bL(u, v):\n",
    "    return -(7+5*t)*u[0]*v[0] + u[1:]*v[1:];\n",
    "#\n",
    "# Quadratic form associated with L \n",
    "#\n",
    "def fL(v):\n",
    "    return bL(v, v);"
   ]
  },
  {
   "cell_type": "code",
   "execution_count": 24,
   "metadata": {
    "collapsed": false
   },
   "outputs": [
    {
     "name": "stdout",
     "output_type": "stream",
     "text": [
      "True\n"
     ]
    },
    {
     "data": {
      "text/html": [
       "<html><script type=\"math/tex; mode=display\">\\newcommand{\\Bold}[1]{\\mathbf{#1}}\\left(\\begin{array}{rrrrr}\n",
       "1 & -\\frac{1}{2} & 0 & -\\frac{1}{2} \\, \\sqrt{2} & 0 \\\\\n",
       "-\\frac{1}{2} & 1 & -\\frac{1}{2} \\, \\sqrt{2} & -\\frac{1}{2} & 0 \\\\\n",
       "0 & -\\frac{1}{2} \\, \\sqrt{2} & 1 & 0 & -\\frac{\\sqrt{2} + 1}{\\sqrt{\\sqrt{2} + 2}} \\\\\n",
       "-\\frac{1}{2} \\, \\sqrt{2} & -\\frac{1}{2} & 0 & 1 & 0 \\\\\n",
       "0 & 0 & -\\frac{\\sqrt{2} + 1}{\\sqrt{\\sqrt{2} + 2}} & 0 & 1\n",
       "\\end{array}\\right)</script></html>"
      ],
      "text/plain": [
       "[                               1                             -1/2                                0                     -1/2*sqrt(2)                                0]\n",
       "[                            -1/2                                1                     -1/2*sqrt(2)                             -1/2                                0]\n",
       "[                               0                     -1/2*sqrt(2)                                1                                0 -(sqrt(2) + 1)/sqrt(sqrt(2) + 2)]\n",
       "[                    -1/2*sqrt(2)                             -1/2                                0                                1                                0]\n",
       "[                               0                                0 -(sqrt(2) + 1)/sqrt(sqrt(2) + 2)                                0                                1]"
      ]
     },
     "execution_count": 24,
     "metadata": {
     },
     "output_type": "execute_result"
    },
    {
     "data": {
      "image/png": "[encoded data removed]",
      "text/plain": [
       "Graphics object consisting of 16 graphics primitives"
      ]
     },
     "execution_count": 24,
     "metadata": {
     },
     "output_type": "execute_result"
    }
   ],
   "source": [
    "print isCoxeter(L12);\n",
    "\n",
    "show(Gram_matrix(L12))\n",
    "\n",
    "Coxeter_diagram(L12).plot(edge_labels=True).show()"
   ]
  },
  {
   "cell_type": "code",
   "execution_count": 26,
   "metadata": {
    "collapsed": false
   },
   "outputs": [
    {
     "name": "stdout",
     "output_type": "stream",
     "text": [
      "5 3\n",
      "vertices labels: 1 2 3 4 5\n",
      "1 2 3\n",
      "1 4 4\n",
      "2 3 4\n",
      "2 4 3\n",
      "3 5 1\n"
     ]
    }
   ],
   "source": [
    "d12 = Coxeter_diagram(L12)\n",
    "print_CoxIter(d12, 3)"
   ]
  },
  {
   "cell_type": "code",
   "execution_count": 0,
   "metadata": {
    "collapsed": false
   },
   "outputs": [
   ],
   "source": [
   ]
  }
 ],
 "metadata": {
  "kernelspec": {
   "display_name": "SageMath (system-wide)",
   "language": "sagemath",
   "metadata": {
    "cocalc": {
     "description": "Open-source mathematical software system",
     "priority": -1,
     "url": "https://www.sagemath.org/"
    }
   },
   "name": "sagemath"
  },
  "language_info": {
   "codemirror_mode": {
    "name": "ipython",
    "version": 2
   },
   "file_extension": ".py",
   "mimetype": "text/x-python",
   "name": "python",
   "nbconvert_exporter": "python",
   "pygments_lexer": "ipython2",
   "version": "2.7.15"
  }
 },
 "nbformat": 4,
 "nbformat_minor": 4
}